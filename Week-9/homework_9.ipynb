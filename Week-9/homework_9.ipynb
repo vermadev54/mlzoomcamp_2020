{
 "cells": [
  {
   "cell_type": "code",
   "execution_count": 1,
   "metadata": {},
   "outputs": [],
   "source": [
    "#!wget https://github.com/SVizor42/ML_Zoomcamp/releases/download/dino-dragon-model/dino_dragon_10_0.899.h5"
   ]
  },
  {
   "cell_type": "code",
   "execution_count": 2,
   "metadata": {},
   "outputs": [
    {
     "name": "stdout",
     "output_type": "stream",
     "text": [
      "dino_dragon_10_0.899.h5 homework_9.ipynb\n"
     ]
    }
   ],
   "source": [
    "!ls"
   ]
  },
  {
   "cell_type": "code",
   "execution_count": 1,
   "metadata": {},
   "outputs": [
    {
     "name": "stderr",
     "output_type": "stream",
     "text": [
      "2022-11-25 17:26:21.459812: I tensorflow/core/platform/cpu_feature_guard.cc:193] This TensorFlow binary is optimized with oneAPI Deep Neural Network Library (oneDNN) to use the following CPU instructions in performance-critical operations:  AVX2 FMA\n",
      "To enable them in other operations, rebuild TensorFlow with the appropriate compiler flags.\n"
     ]
    },
    {
     "data": {
      "text/plain": [
       "'2.11.0'"
      ]
     },
     "execution_count": 1,
     "metadata": {},
     "output_type": "execute_result"
    }
   ],
   "source": [
    "import numpy as np\n",
    "\n",
    "import tensorflow as tf\n",
    "from tensorflow import keras\n",
    "\n",
    "tf.__version__"
   ]
  },
  {
   "cell_type": "code",
   "execution_count": 2,
   "metadata": {},
   "outputs": [],
   "source": [
    "from tensorflow.keras.preprocessing.image import load_img\n",
    "from tensorflow.keras.applications.xception import preprocess_input#!pipenv install tensorflow"
   ]
  },
  {
   "cell_type": "code",
   "execution_count": 3,
   "metadata": {},
   "outputs": [
    {
     "name": "stderr",
     "output_type": "stream",
     "text": [
      "2022-11-25 17:26:30.079783: I tensorflow/core/platform/cpu_feature_guard.cc:193] This TensorFlow binary is optimized with oneAPI Deep Neural Network Library (oneDNN) to use the following CPU instructions in performance-critical operations:  AVX2 FMA\n",
      "To enable them in other operations, rebuild TensorFlow with the appropriate compiler flags.\n"
     ]
    }
   ],
   "source": [
    "model = keras.models.load_model('dino_dragon_10_0.899.h5')"
   ]
  },
  {
   "cell_type": "code",
   "execution_count": 4,
   "metadata": {},
   "outputs": [
    {
     "name": "stderr",
     "output_type": "stream",
     "text": [
      "WARNING:absl:Found untraced functions such as _jit_compiled_convolution_op while saving (showing 1 of 1). These functions will not be directly callable after loading.\n"
     ]
    },
    {
     "name": "stdout",
     "output_type": "stream",
     "text": [
      "INFO:tensorflow:Assets written to: /var/folders/9w/y7n1cknx6b129gych5c5_zxc0000gn/T/tmplsgvdo49/assets\n"
     ]
    },
    {
     "name": "stderr",
     "output_type": "stream",
     "text": [
      "INFO:tensorflow:Assets written to: /var/folders/9w/y7n1cknx6b129gych5c5_zxc0000gn/T/tmplsgvdo49/assets\n",
      "2022-11-25 17:26:56.960193: W tensorflow/compiler/mlir/lite/python/tf_tfl_flatbuffer_helpers.cc:362] Ignored output_format.\n",
      "2022-11-25 17:26:56.960210: W tensorflow/compiler/mlir/lite/python/tf_tfl_flatbuffer_helpers.cc:365] Ignored drop_control_dependency.\n",
      "2022-11-25 17:26:56.960918: I tensorflow/cc/saved_model/reader.cc:45] Reading SavedModel from: /var/folders/9w/y7n1cknx6b129gych5c5_zxc0000gn/T/tmplsgvdo49\n",
      "2022-11-25 17:26:56.962208: I tensorflow/cc/saved_model/reader.cc:89] Reading meta graph with tags { serve }\n",
      "2022-11-25 17:26:56.962219: I tensorflow/cc/saved_model/reader.cc:130] Reading SavedModel debug info (if present) from: /var/folders/9w/y7n1cknx6b129gych5c5_zxc0000gn/T/tmplsgvdo49\n",
      "2022-11-25 17:26:56.965719: I tensorflow/compiler/mlir/mlir_graph_optimization_pass.cc:357] MLIR V1 optimization pass is not enabled\n",
      "2022-11-25 17:26:56.966896: I tensorflow/cc/saved_model/loader.cc:229] Restoring SavedModel bundle.\n",
      "2022-11-25 17:26:57.039927: I tensorflow/cc/saved_model/loader.cc:213] Running initialization op on SavedModel bundle at path: /var/folders/9w/y7n1cknx6b129gych5c5_zxc0000gn/T/tmplsgvdo49\n",
      "2022-11-25 17:26:57.051715: I tensorflow/cc/saved_model/loader.cc:305] SavedModel load for tags { serve }; Status: success: OK. Took 90800 microseconds.\n",
      "2022-11-25 17:26:57.073703: I tensorflow/compiler/mlir/tensorflow/utils/dump_mlir_util.cc:268] disabling MLIR crash reproducer, set env var `MLIR_CRASH_REPRODUCER_DIRECTORY` to enable.\n"
     ]
    }
   ],
   "source": [
    "converter = tf.lite.TFLiteConverter.from_keras_model(model)\n",
    "\n",
    "tflite_model = converter.convert()\n",
    "\n",
    "with open('dino_dragon_10_0.899.tflite', 'wb') as f_out:\n",
    "    f_out.write(tflite_model)"
   ]
  },
  {
   "cell_type": "markdown",
   "metadata": {},
   "source": [
    "## Q1 solution"
   ]
  },
  {
   "cell_type": "code",
   "execution_count": 5,
   "metadata": {},
   "outputs": [
    {
     "name": "stdout",
     "output_type": "stream",
     "text": [
      "total 352656\n",
      "-rw-r--r--  1 jainendra  staff   367K Mar  7  2016 1280px-Smaug_par_David_Demaret.jpg\n",
      "-rw-r--r--  1 jainendra  staff    43M Nov 25 17:24 clothing-model.tflite\n",
      "-rw-r--r--  1 jainendra  staff    86M Nov 19 23:53 dino_dragon_10_0.899.h5\n",
      "-rw-r--r--  1 jainendra  staff    43M Nov 25 17:26 dino_dragon_10_0.899.tflite\n",
      "-rw-r--r--  1 jainendra  staff   2.5K Nov 25 11:36 homework_9.ipynb\n",
      "-rw-r--r--  1 jainendra  staff    23K Nov 25 11:46 pants.jpg\n"
     ]
    }
   ],
   "source": [
    "!ls -lh"
   ]
  },
  {
   "cell_type": "code",
   "execution_count": 7,
   "metadata": {},
   "outputs": [],
   "source": [
    "import tensorflow.lite as tflite"
   ]
  },
  {
   "cell_type": "code",
   "execution_count": 8,
   "metadata": {},
   "outputs": [],
   "source": [
    "interpreter = tflite.Interpreter(model_path='dino_dragon_10_0.899.tflite')\n",
    "interpreter.allocate_tensors()\n",
    "\n",
    "input_index = interpreter.get_input_details()[0]['index']\n",
    "output_index = interpreter.get_output_details()[0]['index']"
   ]
  },
  {
   "cell_type": "code",
   "execution_count": 99,
   "metadata": {},
   "outputs": [],
   "source": [
    "#!wget http://bit.ly/mlbookcamp-pants -O pants.jpg"
   ]
  },
  {
   "cell_type": "markdown",
   "metadata": {},
   "source": [
    "## Q2 solution"
   ]
  },
  {
   "cell_type": "code",
   "execution_count": 10,
   "metadata": {},
   "outputs": [
    {
     "data": {
      "text/plain": [
       "13"
      ]
     },
     "execution_count": 10,
     "metadata": {},
     "output_type": "execute_result"
    }
   ],
   "source": [
    "output_index"
   ]
  },
  {
   "cell_type": "code",
   "execution_count": 11,
   "metadata": {},
   "outputs": [],
   "source": [
    "from io import BytesIO\n",
    "from urllib import request\n",
    "from PIL import Image\n"
   ]
  },
  {
   "cell_type": "code",
   "execution_count": 12,
   "metadata": {},
   "outputs": [],
   "source": [
    "def download_image(url):\n",
    "    with request.urlopen(url) as resp:\n",
    "        buffer = resp.read()\n",
    "    stream = BytesIO(buffer)\n",
    "    img = Image.open(stream)\n",
    "    return img"
   ]
  },
  {
   "cell_type": "code",
   "execution_count": 16,
   "metadata": {},
   "outputs": [],
   "source": [
    "def prepare_image(img, target_size):\n",
    "    if img.mode != 'RGB':\n",
    "        img = img.convert('RGB')\n",
    "    img = img.resize(target_size, Image.NEAREST)\n",
    "    return img"
   ]
  },
  {
   "cell_type": "code",
   "execution_count": 17,
   "metadata": {},
   "outputs": [],
   "source": [
    "import ssl\n",
    "ssl._create_default_https_context = ssl._create_unverified_context\n"
   ]
  },
  {
   "cell_type": "code",
   "execution_count": 18,
   "metadata": {},
   "outputs": [],
   "source": [
    "url=\"\"\"https://upload.wikimedia.org/wikipedia/commons/thumb/d/df/Smaug_par_David_Demaret.jpg/1280px-Smaug_par_David_Demaret.jpg\"\"\""
   ]
  },
  {
   "cell_type": "code",
   "execution_count": 25,
   "metadata": {},
   "outputs": [
    {
     "name": "stderr",
     "output_type": "stream",
     "text": [
      "/var/folders/9w/y7n1cknx6b129gych5c5_zxc0000gn/T/ipykernel_43733/1251262155.py:4: DeprecationWarning: NEAREST is deprecated and will be removed in Pillow 10 (2023-07-01). Use Resampling.NEAREST or Dither.NONE instead.\n",
      "  img = img.resize(target_size, Image.NEAREST)\n"
     ]
    }
   ],
   "source": [
    "img =download_image(url)\n",
    "img = prepare_image(img,(150,150))"
   ]
  },
  {
   "cell_type": "code",
   "execution_count": 26,
   "metadata": {},
   "outputs": [],
   "source": [
    "def preprocess_input(x):\n",
    "    x /= 127.5\n",
    "    x -= 1.\n",
    "    return x"
   ]
  },
  {
   "cell_type": "code",
   "execution_count": 27,
   "metadata": {},
   "outputs": [],
   "source": [
    "x = np.array(img, dtype='float32')\n",
    "X = np.array([x])\n",
    "X = preprocess_input(X)"
   ]
  },
  {
   "cell_type": "code",
   "execution_count": 28,
   "metadata": {},
   "outputs": [],
   "source": [
    "interpreter.set_tensor(input_index, X)\n",
    "interpreter.invoke()\n",
    "preds = interpreter.get_tensor(output_index)"
   ]
  },
  {
   "cell_type": "code",
   "execution_count": 31,
   "metadata": {},
   "outputs": [
    {
     "data": {
      "text/plain": [
       "array([[[[ 0.10588241, -0.36470586, -0.64705884],\n",
       "         [ 0.14509809, -0.31764704, -0.64705884],\n",
       "         [ 0.12941182, -0.3490196 , -0.7019608 ],\n",
       "         ...,\n",
       "         [-0.85882354, -0.94509804, -0.9607843 ],\n",
       "         [-0.85882354, -0.92156863, -0.94509804],\n",
       "         [-0.78039217, -0.90588236, -0.90588236]],\n",
       "\n",
       "        [[ 0.02745104, -0.4352941 , -0.7019608 ],\n",
       "         [ 0.10588241, -0.38039213, -0.6862745 ],\n",
       "         [ 0.16078436, -0.30196077, -0.6313726 ],\n",
       "         ...,\n",
       "         [-0.88235295, -0.9137255 , -0.9372549 ],\n",
       "         [-0.8901961 , -0.9529412 , -0.9764706 ],\n",
       "         [-0.8039216 , -0.92941177, -0.92156863]],\n",
       "\n",
       "        [[ 0.01176476, -0.41176468, -0.69411767],\n",
       "         [ 0.13725495, -0.31764704, -0.60784316],\n",
       "         [ 0.11372554, -0.35686272, -0.64705884],\n",
       "         ...,\n",
       "         [-0.8509804 , -0.94509804, -0.94509804],\n",
       "         [-0.81960785, -0.92941177, -0.9372549 ],\n",
       "         [-0.8509804 , -0.92941177, -0.9372549 ]],\n",
       "\n",
       "        ...,\n",
       "\n",
       "        [[-0.40392154, -0.1607843 , -0.27843136],\n",
       "         [-0.19999999, -0.27843136, -0.29411763],\n",
       "         [-0.14509803, -0.03529412, -0.29411763],\n",
       "         ...,\n",
       "         [-0.2235294 , -0.6862745 , -0.9529412 ],\n",
       "         [-0.38823527, -0.79607844, -0.9607843 ],\n",
       "         [-0.20784312, -0.46666664, -0.81960785]],\n",
       "\n",
       "        [[-0.47450978, -0.09803921, -0.01960784],\n",
       "         [-0.36470586, -0.4980392 , -0.62352943],\n",
       "         [-0.30196077,  0.14509809, -0.12941176],\n",
       "         ...,\n",
       "         [-0.2235294 , -0.6392157 , -0.9529412 ],\n",
       "         [-0.372549  , -0.79607844, -1.        ],\n",
       "         [-0.5764706 , -0.8980392 , -0.7882353 ]],\n",
       "\n",
       "        [[-0.38039213, -0.45098037, -0.31764704],\n",
       "         [-0.81960785, -0.8509804 , -1.        ],\n",
       "         [-0.35686272, -0.58431375, -0.5529412 ],\n",
       "         ...,\n",
       "         [-0.62352943, -1.        , -0.94509804],\n",
       "         [-0.25490195, -0.58431375, -0.88235295],\n",
       "         [-0.29411763, -0.69411767, -0.92156863]]]], dtype=float32)"
      ]
     },
     "execution_count": 31,
     "metadata": {},
     "output_type": "execute_result"
    }
   ],
   "source": [
    "X"
   ]
  },
  {
   "cell_type": "code",
   "execution_count": null,
   "metadata": {},
   "outputs": [],
   "source": []
  }
 ],
 "metadata": {
  "kernelspec": {
   "display_name": "Python 3.10.6 ('week-7-Lz0kreyU')",
   "language": "python",
   "name": "python3"
  },
  "language_info": {
   "codemirror_mode": {
    "name": "ipython",
    "version": 3
   },
   "file_extension": ".py",
   "mimetype": "text/x-python",
   "name": "python",
   "nbconvert_exporter": "python",
   "pygments_lexer": "ipython3",
   "version": "3.10.6"
  },
  "vscode": {
   "interpreter": {
    "hash": "984ca47055b06ff41f4877e821060a912fe94426c7879f20f77bcd110e2b0dc1"
   }
  }
 },
 "nbformat": 4,
 "nbformat_minor": 4
}

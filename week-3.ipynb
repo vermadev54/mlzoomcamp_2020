{
 "cells": [
  {
   "cell_type": "code",
   "execution_count": null,
   "metadata": {},
   "outputs": [],
   "source": [
    "import pandas as pd"
   ]
  },
  {
   "cell_type": "code",
   "execution_count": 45,
   "metadata": {
    "execution": {
     "iopub.execute_input": "2022-09-26T06:24:21.211373Z",
     "iopub.status.busy": "2022-09-26T06:24:21.210270Z",
     "iopub.status.idle": "2022-09-26T06:24:21.236999Z",
     "shell.execute_reply": "2022-09-26T06:24:21.235879Z",
     "shell.execute_reply.started": "2022-09-26T06:24:21.211308Z"
    }
   },
   "outputs": [],
   "source": [
    "df=pd.read_csv(\"/kaggle/input/california-housing-prices/housing.csv\")"
   ]
  },
  {
   "cell_type": "code",
   "execution_count": 3,
   "metadata": {
    "execution": {
     "iopub.execute_input": "2022-09-26T05:37:28.060675Z",
     "iopub.status.busy": "2022-09-26T05:37:28.060265Z",
     "iopub.status.idle": "2022-09-26T05:37:28.099963Z",
     "shell.execute_reply": "2022-09-26T05:37:28.098954Z",
     "shell.execute_reply.started": "2022-09-26T05:37:28.060642Z"
    }
   },
   "outputs": [
    {
     "data": {
      "text/html": [
       "<div>\n",
       "<style scoped>\n",
       "    .dataframe tbody tr th:only-of-type {\n",
       "        vertical-align: middle;\n",
       "    }\n",
       "\n",
       "    .dataframe tbody tr th {\n",
       "        vertical-align: top;\n",
       "    }\n",
       "\n",
       "    .dataframe thead th {\n",
       "        text-align: right;\n",
       "    }\n",
       "</style>\n",
       "<table border=\"1\" class=\"dataframe\">\n",
       "  <thead>\n",
       "    <tr style=\"text-align: right;\">\n",
       "      <th></th>\n",
       "      <th>longitude</th>\n",
       "      <th>latitude</th>\n",
       "      <th>housing_median_age</th>\n",
       "      <th>total_rooms</th>\n",
       "      <th>total_bedrooms</th>\n",
       "      <th>population</th>\n",
       "      <th>households</th>\n",
       "      <th>median_income</th>\n",
       "      <th>median_house_value</th>\n",
       "      <th>ocean_proximity</th>\n",
       "    </tr>\n",
       "  </thead>\n",
       "  <tbody>\n",
       "    <tr>\n",
       "      <th>0</th>\n",
       "      <td>-122.23</td>\n",
       "      <td>37.88</td>\n",
       "      <td>41.0</td>\n",
       "      <td>880.0</td>\n",
       "      <td>129.0</td>\n",
       "      <td>322.0</td>\n",
       "      <td>126.0</td>\n",
       "      <td>8.3252</td>\n",
       "      <td>452600.0</td>\n",
       "      <td>NEAR BAY</td>\n",
       "    </tr>\n",
       "    <tr>\n",
       "      <th>1</th>\n",
       "      <td>-122.22</td>\n",
       "      <td>37.86</td>\n",
       "      <td>21.0</td>\n",
       "      <td>7099.0</td>\n",
       "      <td>1106.0</td>\n",
       "      <td>2401.0</td>\n",
       "      <td>1138.0</td>\n",
       "      <td>8.3014</td>\n",
       "      <td>358500.0</td>\n",
       "      <td>NEAR BAY</td>\n",
       "    </tr>\n",
       "    <tr>\n",
       "      <th>2</th>\n",
       "      <td>-122.24</td>\n",
       "      <td>37.85</td>\n",
       "      <td>52.0</td>\n",
       "      <td>1467.0</td>\n",
       "      <td>190.0</td>\n",
       "      <td>496.0</td>\n",
       "      <td>177.0</td>\n",
       "      <td>7.2574</td>\n",
       "      <td>352100.0</td>\n",
       "      <td>NEAR BAY</td>\n",
       "    </tr>\n",
       "    <tr>\n",
       "      <th>3</th>\n",
       "      <td>-122.25</td>\n",
       "      <td>37.85</td>\n",
       "      <td>52.0</td>\n",
       "      <td>1274.0</td>\n",
       "      <td>235.0</td>\n",
       "      <td>558.0</td>\n",
       "      <td>219.0</td>\n",
       "      <td>5.6431</td>\n",
       "      <td>341300.0</td>\n",
       "      <td>NEAR BAY</td>\n",
       "    </tr>\n",
       "    <tr>\n",
       "      <th>4</th>\n",
       "      <td>-122.25</td>\n",
       "      <td>37.85</td>\n",
       "      <td>52.0</td>\n",
       "      <td>1627.0</td>\n",
       "      <td>280.0</td>\n",
       "      <td>565.0</td>\n",
       "      <td>259.0</td>\n",
       "      <td>3.8462</td>\n",
       "      <td>342200.0</td>\n",
       "      <td>NEAR BAY</td>\n",
       "    </tr>\n",
       "  </tbody>\n",
       "</table>\n",
       "</div>"
      ],
      "text/plain": [
       "   longitude  latitude  housing_median_age  total_rooms  total_bedrooms  \\\n",
       "0    -122.23     37.88                41.0        880.0           129.0   \n",
       "1    -122.22     37.86                21.0       7099.0          1106.0   \n",
       "2    -122.24     37.85                52.0       1467.0           190.0   \n",
       "3    -122.25     37.85                52.0       1274.0           235.0   \n",
       "4    -122.25     37.85                52.0       1627.0           280.0   \n",
       "\n",
       "   population  households  median_income  median_house_value ocean_proximity  \n",
       "0       322.0       126.0         8.3252            452600.0        NEAR BAY  \n",
       "1      2401.0      1138.0         8.3014            358500.0        NEAR BAY  \n",
       "2       496.0       177.0         7.2574            352100.0        NEAR BAY  \n",
       "3       558.0       219.0         5.6431            341300.0        NEAR BAY  \n",
       "4       565.0       259.0         3.8462            342200.0        NEAR BAY  "
      ]
     },
     "execution_count": 3,
     "metadata": {},
     "output_type": "execute_result"
    }
   ],
   "source": [
    "df.head()"
   ]
  },
  {
   "cell_type": "code",
   "execution_count": 4,
   "metadata": {
    "execution": {
     "iopub.execute_input": "2022-09-26T05:37:29.850302Z",
     "iopub.status.busy": "2022-09-26T05:37:29.849854Z",
     "iopub.status.idle": "2022-09-26T05:37:29.864741Z",
     "shell.execute_reply": "2022-09-26T05:37:29.863204Z",
     "shell.execute_reply.started": "2022-09-26T05:37:29.850267Z"
    }
   },
   "outputs": [],
   "source": [
    "df=df[['latitude',\n",
    "'longitude',\n",
    "'housing_median_age',\n",
    "'total_rooms',\n",
    "'total_bedrooms',\n",
    "'population',\n",
    "'households',\n",
    "'median_income',\n",
    "'median_house_value',\n",
    "'ocean_proximity']]"
   ]
  },
  {
   "cell_type": "code",
   "execution_count": 5,
   "metadata": {
    "execution": {
     "iopub.execute_input": "2022-09-26T05:37:32.411768Z",
     "iopub.status.busy": "2022-09-26T05:37:32.411393Z",
     "iopub.status.idle": "2022-09-26T05:37:32.430788Z",
     "shell.execute_reply": "2022-09-26T05:37:32.429661Z",
     "shell.execute_reply.started": "2022-09-26T05:37:32.411743Z"
    }
   },
   "outputs": [
    {
     "data": {
      "text/html": [
       "<div>\n",
       "<style scoped>\n",
       "    .dataframe tbody tr th:only-of-type {\n",
       "        vertical-align: middle;\n",
       "    }\n",
       "\n",
       "    .dataframe tbody tr th {\n",
       "        vertical-align: top;\n",
       "    }\n",
       "\n",
       "    .dataframe thead th {\n",
       "        text-align: right;\n",
       "    }\n",
       "</style>\n",
       "<table border=\"1\" class=\"dataframe\">\n",
       "  <thead>\n",
       "    <tr style=\"text-align: right;\">\n",
       "      <th></th>\n",
       "      <th>latitude</th>\n",
       "      <th>longitude</th>\n",
       "      <th>housing_median_age</th>\n",
       "      <th>total_rooms</th>\n",
       "      <th>total_bedrooms</th>\n",
       "      <th>population</th>\n",
       "      <th>households</th>\n",
       "      <th>median_income</th>\n",
       "      <th>median_house_value</th>\n",
       "      <th>ocean_proximity</th>\n",
       "    </tr>\n",
       "  </thead>\n",
       "  <tbody>\n",
       "    <tr>\n",
       "      <th>0</th>\n",
       "      <td>37.88</td>\n",
       "      <td>-122.23</td>\n",
       "      <td>41.0</td>\n",
       "      <td>880.0</td>\n",
       "      <td>129.0</td>\n",
       "      <td>322.0</td>\n",
       "      <td>126.0</td>\n",
       "      <td>8.3252</td>\n",
       "      <td>452600.0</td>\n",
       "      <td>NEAR BAY</td>\n",
       "    </tr>\n",
       "    <tr>\n",
       "      <th>1</th>\n",
       "      <td>37.86</td>\n",
       "      <td>-122.22</td>\n",
       "      <td>21.0</td>\n",
       "      <td>7099.0</td>\n",
       "      <td>1106.0</td>\n",
       "      <td>2401.0</td>\n",
       "      <td>1138.0</td>\n",
       "      <td>8.3014</td>\n",
       "      <td>358500.0</td>\n",
       "      <td>NEAR BAY</td>\n",
       "    </tr>\n",
       "    <tr>\n",
       "      <th>2</th>\n",
       "      <td>37.85</td>\n",
       "      <td>-122.24</td>\n",
       "      <td>52.0</td>\n",
       "      <td>1467.0</td>\n",
       "      <td>190.0</td>\n",
       "      <td>496.0</td>\n",
       "      <td>177.0</td>\n",
       "      <td>7.2574</td>\n",
       "      <td>352100.0</td>\n",
       "      <td>NEAR BAY</td>\n",
       "    </tr>\n",
       "    <tr>\n",
       "      <th>3</th>\n",
       "      <td>37.85</td>\n",
       "      <td>-122.25</td>\n",
       "      <td>52.0</td>\n",
       "      <td>1274.0</td>\n",
       "      <td>235.0</td>\n",
       "      <td>558.0</td>\n",
       "      <td>219.0</td>\n",
       "      <td>5.6431</td>\n",
       "      <td>341300.0</td>\n",
       "      <td>NEAR BAY</td>\n",
       "    </tr>\n",
       "    <tr>\n",
       "      <th>4</th>\n",
       "      <td>37.85</td>\n",
       "      <td>-122.25</td>\n",
       "      <td>52.0</td>\n",
       "      <td>1627.0</td>\n",
       "      <td>280.0</td>\n",
       "      <td>565.0</td>\n",
       "      <td>259.0</td>\n",
       "      <td>3.8462</td>\n",
       "      <td>342200.0</td>\n",
       "      <td>NEAR BAY</td>\n",
       "    </tr>\n",
       "  </tbody>\n",
       "</table>\n",
       "</div>"
      ],
      "text/plain": [
       "   latitude  longitude  housing_median_age  total_rooms  total_bedrooms  \\\n",
       "0     37.88    -122.23                41.0        880.0           129.0   \n",
       "1     37.86    -122.22                21.0       7099.0          1106.0   \n",
       "2     37.85    -122.24                52.0       1467.0           190.0   \n",
       "3     37.85    -122.25                52.0       1274.0           235.0   \n",
       "4     37.85    -122.25                52.0       1627.0           280.0   \n",
       "\n",
       "   population  households  median_income  median_house_value ocean_proximity  \n",
       "0       322.0       126.0         8.3252            452600.0        NEAR BAY  \n",
       "1      2401.0      1138.0         8.3014            358500.0        NEAR BAY  \n",
       "2       496.0       177.0         7.2574            352100.0        NEAR BAY  \n",
       "3       558.0       219.0         5.6431            341300.0        NEAR BAY  \n",
       "4       565.0       259.0         3.8462            342200.0        NEAR BAY  "
      ]
     },
     "execution_count": 5,
     "metadata": {},
     "output_type": "execute_result"
    }
   ],
   "source": [
    "df.head()"
   ]
  },
  {
   "cell_type": "code",
   "execution_count": 6,
   "metadata": {
    "execution": {
     "iopub.execute_input": "2022-09-26T05:37:34.656272Z",
     "iopub.status.busy": "2022-09-26T05:37:34.655860Z",
     "iopub.status.idle": "2022-09-26T05:37:34.667130Z",
     "shell.execute_reply": "2022-09-26T05:37:34.665449Z",
     "shell.execute_reply.started": "2022-09-26T05:37:34.656236Z"
    }
   },
   "outputs": [
    {
     "data": {
      "text/plain": [
       "latitude                0\n",
       "longitude               0\n",
       "housing_median_age      0\n",
       "total_rooms             0\n",
       "total_bedrooms        207\n",
       "population              0\n",
       "households              0\n",
       "median_income           0\n",
       "median_house_value      0\n",
       "ocean_proximity         0\n",
       "dtype: int64"
      ]
     },
     "execution_count": 6,
     "metadata": {},
     "output_type": "execute_result"
    }
   ],
   "source": [
    "df.isnull().sum()"
   ]
  },
  {
   "cell_type": "code",
   "execution_count": 7,
   "metadata": {
    "execution": {
     "iopub.execute_input": "2022-09-26T05:37:37.645456Z",
     "iopub.status.busy": "2022-09-26T05:37:37.645120Z",
     "iopub.status.idle": "2022-09-26T05:37:37.654881Z",
     "shell.execute_reply": "2022-09-26T05:37:37.653536Z",
     "shell.execute_reply.started": "2022-09-26T05:37:37.645431Z"
    }
   },
   "outputs": [],
   "source": [
    "df['total_bedrooms']=df['total_bedrooms'].fillna(0)"
   ]
  },
  {
   "cell_type": "code",
   "execution_count": 8,
   "metadata": {
    "execution": {
     "iopub.execute_input": "2022-09-26T05:37:40.451101Z",
     "iopub.status.busy": "2022-09-26T05:37:40.450140Z",
     "iopub.status.idle": "2022-09-26T05:37:40.462002Z",
     "shell.execute_reply": "2022-09-26T05:37:40.460606Z",
     "shell.execute_reply.started": "2022-09-26T05:37:40.451044Z"
    }
   },
   "outputs": [
    {
     "data": {
      "text/plain": [
       "latitude              0\n",
       "longitude             0\n",
       "housing_median_age    0\n",
       "total_rooms           0\n",
       "total_bedrooms        0\n",
       "population            0\n",
       "households            0\n",
       "median_income         0\n",
       "median_house_value    0\n",
       "ocean_proximity       0\n",
       "dtype: int64"
      ]
     },
     "execution_count": 8,
     "metadata": {},
     "output_type": "execute_result"
    }
   ],
   "source": [
    "df.isnull().sum()"
   ]
  },
  {
   "cell_type": "code",
   "execution_count": 9,
   "metadata": {
    "execution": {
     "iopub.execute_input": "2022-09-26T05:37:43.540321Z",
     "iopub.status.busy": "2022-09-26T05:37:43.539937Z",
     "iopub.status.idle": "2022-09-26T05:37:43.549348Z",
     "shell.execute_reply": "2022-09-26T05:37:43.548102Z",
     "shell.execute_reply.started": "2022-09-26T05:37:43.540293Z"
    }
   },
   "outputs": [
    {
     "data": {
      "text/plain": [
       "latitude              float64\n",
       "longitude             float64\n",
       "housing_median_age    float64\n",
       "total_rooms           float64\n",
       "total_bedrooms        float64\n",
       "population            float64\n",
       "households            float64\n",
       "median_income         float64\n",
       "median_house_value    float64\n",
       "ocean_proximity        object\n",
       "dtype: object"
      ]
     },
     "execution_count": 9,
     "metadata": {},
     "output_type": "execute_result"
    }
   ],
   "source": [
    "df.dtypes"
   ]
  },
  {
   "cell_type": "code",
   "execution_count": 10,
   "metadata": {
    "execution": {
     "iopub.execute_input": "2022-09-26T05:37:46.256038Z",
     "iopub.status.busy": "2022-09-26T05:37:46.255542Z",
     "iopub.status.idle": "2022-09-26T05:37:46.272496Z",
     "shell.execute_reply": "2022-09-26T05:37:46.271577Z",
     "shell.execute_reply.started": "2022-09-26T05:37:46.256012Z"
    }
   },
   "outputs": [
    {
     "data": {
      "text/html": [
       "<div>\n",
       "<style scoped>\n",
       "    .dataframe tbody tr th:only-of-type {\n",
       "        vertical-align: middle;\n",
       "    }\n",
       "\n",
       "    .dataframe tbody tr th {\n",
       "        vertical-align: top;\n",
       "    }\n",
       "\n",
       "    .dataframe thead th {\n",
       "        text-align: right;\n",
       "    }\n",
       "</style>\n",
       "<table border=\"1\" class=\"dataframe\">\n",
       "  <thead>\n",
       "    <tr style=\"text-align: right;\">\n",
       "      <th></th>\n",
       "      <th>latitude</th>\n",
       "      <th>longitude</th>\n",
       "      <th>housing_median_age</th>\n",
       "      <th>total_rooms</th>\n",
       "      <th>total_bedrooms</th>\n",
       "      <th>population</th>\n",
       "      <th>households</th>\n",
       "      <th>median_income</th>\n",
       "      <th>median_house_value</th>\n",
       "      <th>ocean_proximity</th>\n",
       "    </tr>\n",
       "  </thead>\n",
       "  <tbody>\n",
       "    <tr>\n",
       "      <th>0</th>\n",
       "      <td>37.88</td>\n",
       "      <td>-122.23</td>\n",
       "      <td>41.0</td>\n",
       "      <td>880.0</td>\n",
       "      <td>129.0</td>\n",
       "      <td>322.0</td>\n",
       "      <td>126.0</td>\n",
       "      <td>8.3252</td>\n",
       "      <td>452600.0</td>\n",
       "      <td>NEAR BAY</td>\n",
       "    </tr>\n",
       "    <tr>\n",
       "      <th>1</th>\n",
       "      <td>37.86</td>\n",
       "      <td>-122.22</td>\n",
       "      <td>21.0</td>\n",
       "      <td>7099.0</td>\n",
       "      <td>1106.0</td>\n",
       "      <td>2401.0</td>\n",
       "      <td>1138.0</td>\n",
       "      <td>8.3014</td>\n",
       "      <td>358500.0</td>\n",
       "      <td>NEAR BAY</td>\n",
       "    </tr>\n",
       "    <tr>\n",
       "      <th>2</th>\n",
       "      <td>37.85</td>\n",
       "      <td>-122.24</td>\n",
       "      <td>52.0</td>\n",
       "      <td>1467.0</td>\n",
       "      <td>190.0</td>\n",
       "      <td>496.0</td>\n",
       "      <td>177.0</td>\n",
       "      <td>7.2574</td>\n",
       "      <td>352100.0</td>\n",
       "      <td>NEAR BAY</td>\n",
       "    </tr>\n",
       "    <tr>\n",
       "      <th>3</th>\n",
       "      <td>37.85</td>\n",
       "      <td>-122.25</td>\n",
       "      <td>52.0</td>\n",
       "      <td>1274.0</td>\n",
       "      <td>235.0</td>\n",
       "      <td>558.0</td>\n",
       "      <td>219.0</td>\n",
       "      <td>5.6431</td>\n",
       "      <td>341300.0</td>\n",
       "      <td>NEAR BAY</td>\n",
       "    </tr>\n",
       "    <tr>\n",
       "      <th>4</th>\n",
       "      <td>37.85</td>\n",
       "      <td>-122.25</td>\n",
       "      <td>52.0</td>\n",
       "      <td>1627.0</td>\n",
       "      <td>280.0</td>\n",
       "      <td>565.0</td>\n",
       "      <td>259.0</td>\n",
       "      <td>3.8462</td>\n",
       "      <td>342200.0</td>\n",
       "      <td>NEAR BAY</td>\n",
       "    </tr>\n",
       "  </tbody>\n",
       "</table>\n",
       "</div>"
      ],
      "text/plain": [
       "   latitude  longitude  housing_median_age  total_rooms  total_bedrooms  \\\n",
       "0     37.88    -122.23                41.0        880.0           129.0   \n",
       "1     37.86    -122.22                21.0       7099.0          1106.0   \n",
       "2     37.85    -122.24                52.0       1467.0           190.0   \n",
       "3     37.85    -122.25                52.0       1274.0           235.0   \n",
       "4     37.85    -122.25                52.0       1627.0           280.0   \n",
       "\n",
       "   population  households  median_income  median_house_value ocean_proximity  \n",
       "0       322.0       126.0         8.3252            452600.0        NEAR BAY  \n",
       "1      2401.0      1138.0         8.3014            358500.0        NEAR BAY  \n",
       "2       496.0       177.0         7.2574            352100.0        NEAR BAY  \n",
       "3       558.0       219.0         5.6431            341300.0        NEAR BAY  \n",
       "4       565.0       259.0         3.8462            342200.0        NEAR BAY  "
      ]
     },
     "execution_count": 10,
     "metadata": {},
     "output_type": "execute_result"
    }
   ],
   "source": [
    "df.head()"
   ]
  },
  {
   "cell_type": "code",
   "execution_count": 11,
   "metadata": {
    "execution": {
     "iopub.execute_input": "2022-09-26T05:37:49.185552Z",
     "iopub.status.busy": "2022-09-26T05:37:49.185205Z",
     "iopub.status.idle": "2022-09-26T05:37:49.471737Z",
     "shell.execute_reply": "2022-09-26T05:37:49.469984Z",
     "shell.execute_reply.started": "2022-09-26T05:37:49.185526Z"
    }
   },
   "outputs": [],
   "source": [
    "df['rooms_per_household']=df.apply(lambda x:x['total_rooms']/x['households'],axis=1)"
   ]
  },
  {
   "cell_type": "code",
   "execution_count": null,
   "metadata": {},
   "outputs": [],
   "source": []
  },
  {
   "cell_type": "code",
   "execution_count": 37,
   "metadata": {
    "execution": {
     "iopub.execute_input": "2022-09-24T15:10:05.262290Z",
     "iopub.status.busy": "2022-09-24T15:10:05.261798Z",
     "iopub.status.idle": "2022-09-24T15:10:05.286841Z",
     "shell.execute_reply": "2022-09-24T15:10:05.286055Z",
     "shell.execute_reply.started": "2022-09-24T15:10:05.262254Z"
    }
   },
   "outputs": [
    {
     "data": {
      "text/html": [
       "<div>\n",
       "<style scoped>\n",
       "    .dataframe tbody tr th:only-of-type {\n",
       "        vertical-align: middle;\n",
       "    }\n",
       "\n",
       "    .dataframe tbody tr th {\n",
       "        vertical-align: top;\n",
       "    }\n",
       "\n",
       "    .dataframe thead th {\n",
       "        text-align: right;\n",
       "    }\n",
       "</style>\n",
       "<table border=\"1\" class=\"dataframe\">\n",
       "  <thead>\n",
       "    <tr style=\"text-align: right;\">\n",
       "      <th></th>\n",
       "      <th>latitude</th>\n",
       "      <th>longitude</th>\n",
       "      <th>housing_median_age</th>\n",
       "      <th>total_rooms</th>\n",
       "      <th>total_bedrooms</th>\n",
       "      <th>population</th>\n",
       "      <th>households</th>\n",
       "      <th>median_income</th>\n",
       "      <th>median_house_value</th>\n",
       "      <th>ocean_proximity</th>\n",
       "      <th>rooms_per_household</th>\n",
       "    </tr>\n",
       "  </thead>\n",
       "  <tbody>\n",
       "    <tr>\n",
       "      <th>0</th>\n",
       "      <td>37.88</td>\n",
       "      <td>-122.23</td>\n",
       "      <td>41.0</td>\n",
       "      <td>880.0</td>\n",
       "      <td>129.0</td>\n",
       "      <td>322.0</td>\n",
       "      <td>126.0</td>\n",
       "      <td>8.3252</td>\n",
       "      <td>452600.0</td>\n",
       "      <td>NEAR BAY</td>\n",
       "      <td>6.984127</td>\n",
       "    </tr>\n",
       "    <tr>\n",
       "      <th>1</th>\n",
       "      <td>37.86</td>\n",
       "      <td>-122.22</td>\n",
       "      <td>21.0</td>\n",
       "      <td>7099.0</td>\n",
       "      <td>1106.0</td>\n",
       "      <td>2401.0</td>\n",
       "      <td>1138.0</td>\n",
       "      <td>8.3014</td>\n",
       "      <td>358500.0</td>\n",
       "      <td>NEAR BAY</td>\n",
       "      <td>6.238137</td>\n",
       "    </tr>\n",
       "    <tr>\n",
       "      <th>2</th>\n",
       "      <td>37.85</td>\n",
       "      <td>-122.24</td>\n",
       "      <td>52.0</td>\n",
       "      <td>1467.0</td>\n",
       "      <td>190.0</td>\n",
       "      <td>496.0</td>\n",
       "      <td>177.0</td>\n",
       "      <td>7.2574</td>\n",
       "      <td>352100.0</td>\n",
       "      <td>NEAR BAY</td>\n",
       "      <td>8.288136</td>\n",
       "    </tr>\n",
       "    <tr>\n",
       "      <th>3</th>\n",
       "      <td>37.85</td>\n",
       "      <td>-122.25</td>\n",
       "      <td>52.0</td>\n",
       "      <td>1274.0</td>\n",
       "      <td>235.0</td>\n",
       "      <td>558.0</td>\n",
       "      <td>219.0</td>\n",
       "      <td>5.6431</td>\n",
       "      <td>341300.0</td>\n",
       "      <td>NEAR BAY</td>\n",
       "      <td>5.817352</td>\n",
       "    </tr>\n",
       "    <tr>\n",
       "      <th>4</th>\n",
       "      <td>37.85</td>\n",
       "      <td>-122.25</td>\n",
       "      <td>52.0</td>\n",
       "      <td>1627.0</td>\n",
       "      <td>280.0</td>\n",
       "      <td>565.0</td>\n",
       "      <td>259.0</td>\n",
       "      <td>3.8462</td>\n",
       "      <td>342200.0</td>\n",
       "      <td>NEAR BAY</td>\n",
       "      <td>6.281853</td>\n",
       "    </tr>\n",
       "  </tbody>\n",
       "</table>\n",
       "</div>"
      ],
      "text/plain": [
       "   latitude  longitude  housing_median_age  total_rooms  total_bedrooms  \\\n",
       "0     37.88    -122.23                41.0        880.0           129.0   \n",
       "1     37.86    -122.22                21.0       7099.0          1106.0   \n",
       "2     37.85    -122.24                52.0       1467.0           190.0   \n",
       "3     37.85    -122.25                52.0       1274.0           235.0   \n",
       "4     37.85    -122.25                52.0       1627.0           280.0   \n",
       "\n",
       "   population  households  median_income  median_house_value ocean_proximity  \\\n",
       "0       322.0       126.0         8.3252            452600.0        NEAR BAY   \n",
       "1      2401.0      1138.0         8.3014            358500.0        NEAR BAY   \n",
       "2       496.0       177.0         7.2574            352100.0        NEAR BAY   \n",
       "3       558.0       219.0         5.6431            341300.0        NEAR BAY   \n",
       "4       565.0       259.0         3.8462            342200.0        NEAR BAY   \n",
       "\n",
       "   rooms_per_household  \n",
       "0             6.984127  \n",
       "1             6.238137  \n",
       "2             8.288136  \n",
       "3             5.817352  \n",
       "4             6.281853  "
      ]
     },
     "execution_count": 37,
     "metadata": {},
     "output_type": "execute_result"
    }
   ],
   "source": [
    "df.head()"
   ]
  },
  {
   "cell_type": "code",
   "execution_count": 38,
   "metadata": {
    "execution": {
     "iopub.execute_input": "2022-09-24T15:11:25.547104Z",
     "iopub.status.busy": "2022-09-24T15:11:25.546660Z",
     "iopub.status.idle": "2022-09-24T15:11:25.872287Z",
     "shell.execute_reply": "2022-09-24T15:11:25.870984Z",
     "shell.execute_reply.started": "2022-09-24T15:11:25.547070Z"
    }
   },
   "outputs": [],
   "source": [
    "df['bedrooms_per_room']=df.apply(lambda x:x['total_bedrooms']/x['total_rooms'],axis=1)"
   ]
  },
  {
   "cell_type": "code",
   "execution_count": 39,
   "metadata": {
    "execution": {
     "iopub.execute_input": "2022-09-24T15:12:26.467345Z",
     "iopub.status.busy": "2022-09-24T15:12:26.466897Z",
     "iopub.status.idle": "2022-09-24T15:12:26.788481Z",
     "shell.execute_reply": "2022-09-24T15:12:26.787061Z",
     "shell.execute_reply.started": "2022-09-24T15:12:26.467313Z"
    }
   },
   "outputs": [],
   "source": [
    "df['population_per_household']=df.apply(lambda x:x['population']/x['households'],axis=1)"
   ]
  },
  {
   "cell_type": "code",
   "execution_count": 40,
   "metadata": {
    "execution": {
     "iopub.execute_input": "2022-09-24T15:12:35.867265Z",
     "iopub.status.busy": "2022-09-24T15:12:35.866801Z",
     "iopub.status.idle": "2022-09-24T15:12:35.894267Z",
     "shell.execute_reply": "2022-09-24T15:12:35.892929Z",
     "shell.execute_reply.started": "2022-09-24T15:12:35.867229Z"
    }
   },
   "outputs": [
    {
     "data": {
      "text/html": [
       "<div>\n",
       "<style scoped>\n",
       "    .dataframe tbody tr th:only-of-type {\n",
       "        vertical-align: middle;\n",
       "    }\n",
       "\n",
       "    .dataframe tbody tr th {\n",
       "        vertical-align: top;\n",
       "    }\n",
       "\n",
       "    .dataframe thead th {\n",
       "        text-align: right;\n",
       "    }\n",
       "</style>\n",
       "<table border=\"1\" class=\"dataframe\">\n",
       "  <thead>\n",
       "    <tr style=\"text-align: right;\">\n",
       "      <th></th>\n",
       "      <th>latitude</th>\n",
       "      <th>longitude</th>\n",
       "      <th>housing_median_age</th>\n",
       "      <th>total_rooms</th>\n",
       "      <th>total_bedrooms</th>\n",
       "      <th>population</th>\n",
       "      <th>households</th>\n",
       "      <th>median_income</th>\n",
       "      <th>median_house_value</th>\n",
       "      <th>ocean_proximity</th>\n",
       "      <th>rooms_per_household</th>\n",
       "      <th>bedrooms_per_room</th>\n",
       "      <th>population_per_household</th>\n",
       "    </tr>\n",
       "  </thead>\n",
       "  <tbody>\n",
       "    <tr>\n",
       "      <th>0</th>\n",
       "      <td>37.88</td>\n",
       "      <td>-122.23</td>\n",
       "      <td>41.0</td>\n",
       "      <td>880.0</td>\n",
       "      <td>129.0</td>\n",
       "      <td>322.0</td>\n",
       "      <td>126.0</td>\n",
       "      <td>8.3252</td>\n",
       "      <td>452600.0</td>\n",
       "      <td>NEAR BAY</td>\n",
       "      <td>6.984127</td>\n",
       "      <td>0.146591</td>\n",
       "      <td>2.555556</td>\n",
       "    </tr>\n",
       "    <tr>\n",
       "      <th>1</th>\n",
       "      <td>37.86</td>\n",
       "      <td>-122.22</td>\n",
       "      <td>21.0</td>\n",
       "      <td>7099.0</td>\n",
       "      <td>1106.0</td>\n",
       "      <td>2401.0</td>\n",
       "      <td>1138.0</td>\n",
       "      <td>8.3014</td>\n",
       "      <td>358500.0</td>\n",
       "      <td>NEAR BAY</td>\n",
       "      <td>6.238137</td>\n",
       "      <td>0.155797</td>\n",
       "      <td>2.109842</td>\n",
       "    </tr>\n",
       "    <tr>\n",
       "      <th>2</th>\n",
       "      <td>37.85</td>\n",
       "      <td>-122.24</td>\n",
       "      <td>52.0</td>\n",
       "      <td>1467.0</td>\n",
       "      <td>190.0</td>\n",
       "      <td>496.0</td>\n",
       "      <td>177.0</td>\n",
       "      <td>7.2574</td>\n",
       "      <td>352100.0</td>\n",
       "      <td>NEAR BAY</td>\n",
       "      <td>8.288136</td>\n",
       "      <td>0.129516</td>\n",
       "      <td>2.802260</td>\n",
       "    </tr>\n",
       "    <tr>\n",
       "      <th>3</th>\n",
       "      <td>37.85</td>\n",
       "      <td>-122.25</td>\n",
       "      <td>52.0</td>\n",
       "      <td>1274.0</td>\n",
       "      <td>235.0</td>\n",
       "      <td>558.0</td>\n",
       "      <td>219.0</td>\n",
       "      <td>5.6431</td>\n",
       "      <td>341300.0</td>\n",
       "      <td>NEAR BAY</td>\n",
       "      <td>5.817352</td>\n",
       "      <td>0.184458</td>\n",
       "      <td>2.547945</td>\n",
       "    </tr>\n",
       "    <tr>\n",
       "      <th>4</th>\n",
       "      <td>37.85</td>\n",
       "      <td>-122.25</td>\n",
       "      <td>52.0</td>\n",
       "      <td>1627.0</td>\n",
       "      <td>280.0</td>\n",
       "      <td>565.0</td>\n",
       "      <td>259.0</td>\n",
       "      <td>3.8462</td>\n",
       "      <td>342200.0</td>\n",
       "      <td>NEAR BAY</td>\n",
       "      <td>6.281853</td>\n",
       "      <td>0.172096</td>\n",
       "      <td>2.181467</td>\n",
       "    </tr>\n",
       "  </tbody>\n",
       "</table>\n",
       "</div>"
      ],
      "text/plain": [
       "   latitude  longitude  housing_median_age  total_rooms  total_bedrooms  \\\n",
       "0     37.88    -122.23                41.0        880.0           129.0   \n",
       "1     37.86    -122.22                21.0       7099.0          1106.0   \n",
       "2     37.85    -122.24                52.0       1467.0           190.0   \n",
       "3     37.85    -122.25                52.0       1274.0           235.0   \n",
       "4     37.85    -122.25                52.0       1627.0           280.0   \n",
       "\n",
       "   population  households  median_income  median_house_value ocean_proximity  \\\n",
       "0       322.0       126.0         8.3252            452600.0        NEAR BAY   \n",
       "1      2401.0      1138.0         8.3014            358500.0        NEAR BAY   \n",
       "2       496.0       177.0         7.2574            352100.0        NEAR BAY   \n",
       "3       558.0       219.0         5.6431            341300.0        NEAR BAY   \n",
       "4       565.0       259.0         3.8462            342200.0        NEAR BAY   \n",
       "\n",
       "   rooms_per_household  bedrooms_per_room  population_per_household  \n",
       "0             6.984127           0.146591                  2.555556  \n",
       "1             6.238137           0.155797                  2.109842  \n",
       "2             8.288136           0.129516                  2.802260  \n",
       "3             5.817352           0.184458                  2.547945  \n",
       "4             6.281853           0.172096                  2.181467  "
      ]
     },
     "execution_count": 40,
     "metadata": {},
     "output_type": "execute_result"
    }
   ],
   "source": [
    "df.head()"
   ]
  },
  {
   "cell_type": "markdown",
   "metadata": {},
   "source": [
    "## Q1 solution"
   ]
  },
  {
   "cell_type": "code",
   "execution_count": 41,
   "metadata": {
    "execution": {
     "iopub.execute_input": "2022-09-24T15:17:14.298225Z",
     "iopub.status.busy": "2022-09-24T15:17:14.297709Z",
     "iopub.status.idle": "2022-09-24T15:17:14.311867Z",
     "shell.execute_reply": "2022-09-24T15:17:14.310770Z",
     "shell.execute_reply.started": "2022-09-24T15:17:14.298187Z"
    }
   },
   "outputs": [
    {
     "data": {
      "text/plain": [
       "<1H OCEAN     9136\n",
       "INLAND        6551\n",
       "NEAR OCEAN    2658\n",
       "NEAR BAY      2290\n",
       "ISLAND           5\n",
       "Name: ocean_proximity, dtype: int64"
      ]
     },
     "execution_count": 41,
     "metadata": {},
     "output_type": "execute_result"
    }
   ],
   "source": [
    "df.ocean_proximity.value_counts()"
   ]
  },
  {
   "cell_type": "code",
   "execution_count": 42,
   "metadata": {
    "execution": {
     "iopub.execute_input": "2022-09-24T15:20:00.178273Z",
     "iopub.status.busy": "2022-09-24T15:20:00.177779Z",
     "iopub.status.idle": "2022-09-24T15:20:00.185455Z",
     "shell.execute_reply": "2022-09-24T15:20:00.184206Z",
     "shell.execute_reply.started": "2022-09-24T15:20:00.178237Z"
    }
   },
   "outputs": [],
   "source": [
    "# Splitting of dataset into the train 60%, validation 20%, and the test 20 % dataset \n",
    "n = len(df)\n",
    "\n",
    "# Validation dataset\n",
    "n_val = int(n * 0.2)\n",
    "\n",
    "# Test dataset \n",
    "n_test = int(n * 0.2)\n",
    "\n",
    "# Train dataset\n",
    "n_train = n - n_val - n_test"
   ]
  },
  {
   "cell_type": "code",
   "execution_count": 43,
   "metadata": {
    "execution": {
     "iopub.execute_input": "2022-09-24T15:20:19.263211Z",
     "iopub.status.busy": "2022-09-24T15:20:19.262697Z",
     "iopub.status.idle": "2022-09-24T15:20:19.276410Z",
     "shell.execute_reply": "2022-09-24T15:20:19.273690Z",
     "shell.execute_reply.started": "2022-09-24T15:20:19.263175Z"
    }
   },
   "outputs": [
    {
     "data": {
      "text/plain": [
       "(20640, 4128, 4128, 12384)"
      ]
     },
     "execution_count": 43,
     "metadata": {},
     "output_type": "execute_result"
    }
   ],
   "source": [
    "n, n_val, n_test, n_train"
   ]
  },
  {
   "cell_type": "code",
   "execution_count": 44,
   "metadata": {
    "execution": {
     "iopub.execute_input": "2022-09-24T15:20:39.468835Z",
     "iopub.status.busy": "2022-09-24T15:20:39.468413Z",
     "iopub.status.idle": "2022-09-24T15:20:39.476178Z",
     "shell.execute_reply": "2022-09-24T15:20:39.474709Z",
     "shell.execute_reply.started": "2022-09-24T15:20:39.468801Z"
    }
   },
   "outputs": [],
   "source": [
    "idx = np.arange(n)\n",
    "np.random.seed(2)\n",
    "np.random.shuffle(idx)"
   ]
  },
  {
   "cell_type": "code",
   "execution_count": 45,
   "metadata": {
    "execution": {
     "iopub.execute_input": "2022-09-24T15:20:54.087118Z",
     "iopub.status.busy": "2022-09-24T15:20:54.086675Z",
     "iopub.status.idle": "2022-09-24T15:20:54.101734Z",
     "shell.execute_reply": "2022-09-24T15:20:54.100316Z",
     "shell.execute_reply.started": "2022-09-24T15:20:54.087086Z"
    }
   },
   "outputs": [],
   "source": [
    "#get train/val/test dataset\n",
    "df_train = df.iloc[idx[:n_train]]\n",
    "df_val = df.iloc[idx[n_train:n_train+n_val]]\n",
    "df_test = df.iloc[idx[n_train+n_val:]]"
   ]
  },
  {
   "cell_type": "code",
   "execution_count": 46,
   "metadata": {
    "execution": {
     "iopub.execute_input": "2022-09-24T15:21:10.819028Z",
     "iopub.status.busy": "2022-09-24T15:21:10.818556Z",
     "iopub.status.idle": "2022-09-24T15:21:10.827579Z",
     "shell.execute_reply": "2022-09-24T15:21:10.825971Z",
     "shell.execute_reply.started": "2022-09-24T15:21:10.818979Z"
    }
   },
   "outputs": [
    {
     "data": {
      "text/plain": [
       "(12384, 4128, 4128)"
      ]
     },
     "execution_count": 46,
     "metadata": {},
     "output_type": "execute_result"
    }
   ],
   "source": [
    "len(df_train), len(df_val), len(df_test)"
   ]
  },
  {
   "cell_type": "code",
   "execution_count": 47,
   "metadata": {
    "execution": {
     "iopub.execute_input": "2022-09-24T15:21:31.313230Z",
     "iopub.status.busy": "2022-09-24T15:21:31.312685Z",
     "iopub.status.idle": "2022-09-24T15:21:31.321975Z",
     "shell.execute_reply": "2022-09-24T15:21:31.320514Z",
     "shell.execute_reply.started": "2022-09-24T15:21:31.313144Z"
    }
   },
   "outputs": [],
   "source": [
    "#reset index\n",
    "df_train = df_train.reset_index(drop=True)\n",
    "df_val = df_val.reset_index(drop=True)\n",
    "df_test = df_test.reset_index(drop=True)"
   ]
  },
  {
   "cell_type": "code",
   "execution_count": 49,
   "metadata": {
    "execution": {
     "iopub.execute_input": "2022-09-24T15:22:31.033814Z",
     "iopub.status.busy": "2022-09-24T15:22:31.032505Z",
     "iopub.status.idle": "2022-09-24T15:22:31.041511Z",
     "shell.execute_reply": "2022-09-24T15:22:31.040080Z",
     "shell.execute_reply.started": "2022-09-24T15:22:31.033770Z"
    }
   },
   "outputs": [],
   "source": [
    "# Transformation of the y values\n",
    "y_train = np.log1p(df_train.median_house_value.values)\n",
    "y_val = np.log1p(df_val.median_house_value.values)\n",
    "y_test = np.log1p(df_test.median_house_value.values)\n"
   ]
  },
  {
   "cell_type": "code",
   "execution_count": 50,
   "metadata": {
    "execution": {
     "iopub.execute_input": "2022-09-24T15:22:52.312891Z",
     "iopub.status.busy": "2022-09-24T15:22:52.312463Z",
     "iopub.status.idle": "2022-09-24T15:22:52.320048Z",
     "shell.execute_reply": "2022-09-24T15:22:52.318701Z",
     "shell.execute_reply.started": "2022-09-24T15:22:52.312856Z"
    }
   },
   "outputs": [],
   "source": [
    "del df_train['median_house_value']\n",
    "del df_val['median_house_value']\n",
    "del df_test['median_house_value']"
   ]
  },
  {
   "cell_type": "code",
   "execution_count": 51,
   "metadata": {
    "execution": {
     "iopub.execute_input": "2022-09-24T15:23:10.688051Z",
     "iopub.status.busy": "2022-09-24T15:23:10.687618Z",
     "iopub.status.idle": "2022-09-24T15:23:10.697824Z",
     "shell.execute_reply": "2022-09-24T15:23:10.696243Z",
     "shell.execute_reply.started": "2022-09-24T15:23:10.688019Z"
    }
   },
   "outputs": [
    {
     "data": {
      "text/plain": [
       "(12384, 4128, 4128)"
      ]
     },
     "execution_count": 51,
     "metadata": {},
     "output_type": "execute_result"
    }
   ],
   "source": [
    "len(y_train),len(y_val),len(y_test)"
   ]
  },
  {
   "cell_type": "markdown",
   "metadata": {},
   "source": [
    "## Q2 solution"
   ]
  },
  {
   "cell_type": "code",
   "execution_count": 56,
   "metadata": {
    "execution": {
     "iopub.execute_input": "2022-09-24T15:33:23.448325Z",
     "iopub.status.busy": "2022-09-24T15:33:23.447156Z",
     "iopub.status.idle": "2022-09-24T15:33:23.477366Z",
     "shell.execute_reply": "2022-09-24T15:33:23.476468Z",
     "shell.execute_reply.started": "2022-09-24T15:33:23.448272Z"
    }
   },
   "outputs": [
    {
     "data": {
      "text/html": [
       "<div>\n",
       "<style scoped>\n",
       "    .dataframe tbody tr th:only-of-type {\n",
       "        vertical-align: middle;\n",
       "    }\n",
       "\n",
       "    .dataframe tbody tr th {\n",
       "        vertical-align: top;\n",
       "    }\n",
       "\n",
       "    .dataframe thead th {\n",
       "        text-align: right;\n",
       "    }\n",
       "</style>\n",
       "<table border=\"1\" class=\"dataframe\">\n",
       "  <thead>\n",
       "    <tr style=\"text-align: right;\">\n",
       "      <th></th>\n",
       "      <th>latitude</th>\n",
       "      <th>longitude</th>\n",
       "      <th>housing_median_age</th>\n",
       "      <th>total_rooms</th>\n",
       "      <th>total_bedrooms</th>\n",
       "      <th>population</th>\n",
       "      <th>households</th>\n",
       "      <th>median_income</th>\n",
       "      <th>rooms_per_household</th>\n",
       "      <th>bedrooms_per_room</th>\n",
       "      <th>population_per_household</th>\n",
       "    </tr>\n",
       "  </thead>\n",
       "  <tbody>\n",
       "    <tr>\n",
       "      <th>latitude</th>\n",
       "      <td>1.000000</td>\n",
       "      <td>-0.924823</td>\n",
       "      <td>0.014015</td>\n",
       "      <td>-0.039883</td>\n",
       "      <td>-0.066567</td>\n",
       "      <td>-0.109230</td>\n",
       "      <td>-0.072738</td>\n",
       "      <td>-0.087704</td>\n",
       "      <td>0.102143</td>\n",
       "      <td>-0.101257</td>\n",
       "      <td>0.001966</td>\n",
       "    </tr>\n",
       "    <tr>\n",
       "      <th>longitude</th>\n",
       "      <td>-0.924823</td>\n",
       "      <td>1.000000</td>\n",
       "      <td>-0.105932</td>\n",
       "      <td>0.044295</td>\n",
       "      <td>0.064629</td>\n",
       "      <td>0.096467</td>\n",
       "      <td>0.052311</td>\n",
       "      <td>-0.005979</td>\n",
       "      <td>-0.021702</td>\n",
       "      <td>0.078993</td>\n",
       "      <td>-0.002111</td>\n",
       "    </tr>\n",
       "    <tr>\n",
       "      <th>housing_median_age</th>\n",
       "      <td>0.014015</td>\n",
       "      <td>-0.105932</td>\n",
       "      <td>1.000000</td>\n",
       "      <td>-0.364226</td>\n",
       "      <td>-0.318180</td>\n",
       "      <td>-0.292668</td>\n",
       "      <td>-0.301792</td>\n",
       "      <td>-0.121506</td>\n",
       "      <td>-0.156676</td>\n",
       "      <td>0.125650</td>\n",
       "      <td>0.017145</td>\n",
       "    </tr>\n",
       "    <tr>\n",
       "      <th>total_rooms</th>\n",
       "      <td>-0.039883</td>\n",
       "      <td>0.044295</td>\n",
       "      <td>-0.364226</td>\n",
       "      <td>1.000000</td>\n",
       "      <td>0.920819</td>\n",
       "      <td>0.853825</td>\n",
       "      <td>0.918342</td>\n",
       "      <td>0.193748</td>\n",
       "      <td>0.130356</td>\n",
       "      <td>-0.167707</td>\n",
       "      <td>-0.023876</td>\n",
       "    </tr>\n",
       "    <tr>\n",
       "      <th>total_bedrooms</th>\n",
       "      <td>-0.066567</td>\n",
       "      <td>0.064629</td>\n",
       "      <td>-0.318180</td>\n",
       "      <td>0.920819</td>\n",
       "      <td>1.000000</td>\n",
       "      <td>0.858240</td>\n",
       "      <td>0.967758</td>\n",
       "      <td>-0.010404</td>\n",
       "      <td>-0.005498</td>\n",
       "      <td>0.131824</td>\n",
       "      <td>-0.027330</td>\n",
       "    </tr>\n",
       "    <tr>\n",
       "      <th>population</th>\n",
       "      <td>-0.109230</td>\n",
       "      <td>0.096467</td>\n",
       "      <td>-0.292668</td>\n",
       "      <td>0.853825</td>\n",
       "      <td>0.858240</td>\n",
       "      <td>1.000000</td>\n",
       "      <td>0.898546</td>\n",
       "      <td>0.004813</td>\n",
       "      <td>-0.070057</td>\n",
       "      <td>0.031677</td>\n",
       "      <td>0.078655</td>\n",
       "    </tr>\n",
       "    <tr>\n",
       "      <th>households</th>\n",
       "      <td>-0.072738</td>\n",
       "      <td>0.052311</td>\n",
       "      <td>-0.301792</td>\n",
       "      <td>0.918342</td>\n",
       "      <td>0.967758</td>\n",
       "      <td>0.898546</td>\n",
       "      <td>1.000000</td>\n",
       "      <td>0.008231</td>\n",
       "      <td>-0.084355</td>\n",
       "      <td>0.071483</td>\n",
       "      <td>-0.026804</td>\n",
       "    </tr>\n",
       "    <tr>\n",
       "      <th>median_income</th>\n",
       "      <td>-0.087704</td>\n",
       "      <td>-0.005979</td>\n",
       "      <td>-0.121506</td>\n",
       "      <td>0.193748</td>\n",
       "      <td>-0.010404</td>\n",
       "      <td>0.004813</td>\n",
       "      <td>0.008231</td>\n",
       "      <td>1.000000</td>\n",
       "      <td>0.329874</td>\n",
       "      <td>-0.571738</td>\n",
       "      <td>0.025867</td>\n",
       "    </tr>\n",
       "    <tr>\n",
       "      <th>rooms_per_household</th>\n",
       "      <td>0.102143</td>\n",
       "      <td>-0.021702</td>\n",
       "      <td>-0.156676</td>\n",
       "      <td>0.130356</td>\n",
       "      <td>-0.005498</td>\n",
       "      <td>-0.070057</td>\n",
       "      <td>-0.084355</td>\n",
       "      <td>0.329874</td>\n",
       "      <td>1.000000</td>\n",
       "      <td>-0.401859</td>\n",
       "      <td>-0.002609</td>\n",
       "    </tr>\n",
       "    <tr>\n",
       "      <th>bedrooms_per_room</th>\n",
       "      <td>-0.101257</td>\n",
       "      <td>0.078993</td>\n",
       "      <td>0.125650</td>\n",
       "      <td>-0.167707</td>\n",
       "      <td>0.131824</td>\n",
       "      <td>0.031677</td>\n",
       "      <td>0.071483</td>\n",
       "      <td>-0.571738</td>\n",
       "      <td>-0.401859</td>\n",
       "      <td>1.000000</td>\n",
       "      <td>0.000794</td>\n",
       "    </tr>\n",
       "    <tr>\n",
       "      <th>population_per_household</th>\n",
       "      <td>0.001966</td>\n",
       "      <td>-0.002111</td>\n",
       "      <td>0.017145</td>\n",
       "      <td>-0.023876</td>\n",
       "      <td>-0.027330</td>\n",
       "      <td>0.078655</td>\n",
       "      <td>-0.026804</td>\n",
       "      <td>0.025867</td>\n",
       "      <td>-0.002609</td>\n",
       "      <td>0.000794</td>\n",
       "      <td>1.000000</td>\n",
       "    </tr>\n",
       "  </tbody>\n",
       "</table>\n",
       "</div>"
      ],
      "text/plain": [
       "                          latitude  longitude  housing_median_age  \\\n",
       "latitude                  1.000000  -0.924823            0.014015   \n",
       "longitude                -0.924823   1.000000           -0.105932   \n",
       "housing_median_age        0.014015  -0.105932            1.000000   \n",
       "total_rooms              -0.039883   0.044295           -0.364226   \n",
       "total_bedrooms           -0.066567   0.064629           -0.318180   \n",
       "population               -0.109230   0.096467           -0.292668   \n",
       "households               -0.072738   0.052311           -0.301792   \n",
       "median_income            -0.087704  -0.005979           -0.121506   \n",
       "rooms_per_household       0.102143  -0.021702           -0.156676   \n",
       "bedrooms_per_room        -0.101257   0.078993            0.125650   \n",
       "population_per_household  0.001966  -0.002111            0.017145   \n",
       "\n",
       "                          total_rooms  total_bedrooms  population  households  \\\n",
       "latitude                    -0.039883       -0.066567   -0.109230   -0.072738   \n",
       "longitude                    0.044295        0.064629    0.096467    0.052311   \n",
       "housing_median_age          -0.364226       -0.318180   -0.292668   -0.301792   \n",
       "total_rooms                  1.000000        0.920819    0.853825    0.918342   \n",
       "total_bedrooms               0.920819        1.000000    0.858240    0.967758   \n",
       "population                   0.853825        0.858240    1.000000    0.898546   \n",
       "households                   0.918342        0.967758    0.898546    1.000000   \n",
       "median_income                0.193748       -0.010404    0.004813    0.008231   \n",
       "rooms_per_household          0.130356       -0.005498   -0.070057   -0.084355   \n",
       "bedrooms_per_room           -0.167707        0.131824    0.031677    0.071483   \n",
       "population_per_household    -0.023876       -0.027330    0.078655   -0.026804   \n",
       "\n",
       "                          median_income  rooms_per_household  \\\n",
       "latitude                      -0.087704             0.102143   \n",
       "longitude                     -0.005979            -0.021702   \n",
       "housing_median_age            -0.121506            -0.156676   \n",
       "total_rooms                    0.193748             0.130356   \n",
       "total_bedrooms                -0.010404            -0.005498   \n",
       "population                     0.004813            -0.070057   \n",
       "households                     0.008231            -0.084355   \n",
       "median_income                  1.000000             0.329874   \n",
       "rooms_per_household            0.329874             1.000000   \n",
       "bedrooms_per_room             -0.571738            -0.401859   \n",
       "population_per_household       0.025867            -0.002609   \n",
       "\n",
       "                          bedrooms_per_room  population_per_household  \n",
       "latitude                          -0.101257                  0.001966  \n",
       "longitude                          0.078993                 -0.002111  \n",
       "housing_median_age                 0.125650                  0.017145  \n",
       "total_rooms                       -0.167707                 -0.023876  \n",
       "total_bedrooms                     0.131824                 -0.027330  \n",
       "population                         0.031677                  0.078655  \n",
       "households                         0.071483                 -0.026804  \n",
       "median_income                     -0.571738                  0.025867  \n",
       "rooms_per_household               -0.401859                 -0.002609  \n",
       "bedrooms_per_room                  1.000000                  0.000794  \n",
       "population_per_household           0.000794                  1.000000  "
      ]
     },
     "execution_count": 56,
     "metadata": {},
     "output_type": "execute_result"
    }
   ],
   "source": [
    "df_train.corr()"
   ]
  },
  {
   "cell_type": "code",
   "execution_count": 58,
   "metadata": {
    "execution": {
     "iopub.execute_input": "2022-09-24T15:48:27.112757Z",
     "iopub.status.busy": "2022-09-24T15:48:27.111560Z",
     "iopub.status.idle": "2022-09-24T15:48:27.145435Z",
     "shell.execute_reply": "2022-09-24T15:48:27.143653Z",
     "shell.execute_reply.started": "2022-09-24T15:48:27.112701Z"
    }
   },
   "outputs": [
    {
     "data": {
      "text/html": [
       "<div>\n",
       "<style scoped>\n",
       "    .dataframe tbody tr th:only-of-type {\n",
       "        vertical-align: middle;\n",
       "    }\n",
       "\n",
       "    .dataframe tbody tr th {\n",
       "        vertical-align: top;\n",
       "    }\n",
       "\n",
       "    .dataframe thead th {\n",
       "        text-align: right;\n",
       "    }\n",
       "</style>\n",
       "<table border=\"1\" class=\"dataframe\">\n",
       "  <thead>\n",
       "    <tr style=\"text-align: right;\">\n",
       "      <th></th>\n",
       "      <th>latitude</th>\n",
       "      <th>longitude</th>\n",
       "      <th>housing_median_age</th>\n",
       "      <th>total_rooms</th>\n",
       "      <th>total_bedrooms</th>\n",
       "      <th>population</th>\n",
       "      <th>households</th>\n",
       "      <th>median_income</th>\n",
       "      <th>median_house_value</th>\n",
       "      <th>ocean_proximity</th>\n",
       "      <th>rooms_per_household</th>\n",
       "      <th>bedrooms_per_room</th>\n",
       "      <th>population_per_household</th>\n",
       "    </tr>\n",
       "  </thead>\n",
       "  <tbody>\n",
       "    <tr>\n",
       "      <th>0</th>\n",
       "      <td>37.88</td>\n",
       "      <td>-122.23</td>\n",
       "      <td>41.0</td>\n",
       "      <td>880.0</td>\n",
       "      <td>129.0</td>\n",
       "      <td>322.0</td>\n",
       "      <td>126.0</td>\n",
       "      <td>8.3252</td>\n",
       "      <td>452600.0</td>\n",
       "      <td>NEAR BAY</td>\n",
       "      <td>6.984127</td>\n",
       "      <td>0.146591</td>\n",
       "      <td>2.555556</td>\n",
       "    </tr>\n",
       "    <tr>\n",
       "      <th>1</th>\n",
       "      <td>37.86</td>\n",
       "      <td>-122.22</td>\n",
       "      <td>21.0</td>\n",
       "      <td>7099.0</td>\n",
       "      <td>1106.0</td>\n",
       "      <td>2401.0</td>\n",
       "      <td>1138.0</td>\n",
       "      <td>8.3014</td>\n",
       "      <td>358500.0</td>\n",
       "      <td>NEAR BAY</td>\n",
       "      <td>6.238137</td>\n",
       "      <td>0.155797</td>\n",
       "      <td>2.109842</td>\n",
       "    </tr>\n",
       "    <tr>\n",
       "      <th>2</th>\n",
       "      <td>37.85</td>\n",
       "      <td>-122.24</td>\n",
       "      <td>52.0</td>\n",
       "      <td>1467.0</td>\n",
       "      <td>190.0</td>\n",
       "      <td>496.0</td>\n",
       "      <td>177.0</td>\n",
       "      <td>7.2574</td>\n",
       "      <td>352100.0</td>\n",
       "      <td>NEAR BAY</td>\n",
       "      <td>8.288136</td>\n",
       "      <td>0.129516</td>\n",
       "      <td>2.802260</td>\n",
       "    </tr>\n",
       "    <tr>\n",
       "      <th>3</th>\n",
       "      <td>37.85</td>\n",
       "      <td>-122.25</td>\n",
       "      <td>52.0</td>\n",
       "      <td>1274.0</td>\n",
       "      <td>235.0</td>\n",
       "      <td>558.0</td>\n",
       "      <td>219.0</td>\n",
       "      <td>5.6431</td>\n",
       "      <td>341300.0</td>\n",
       "      <td>NEAR BAY</td>\n",
       "      <td>5.817352</td>\n",
       "      <td>0.184458</td>\n",
       "      <td>2.547945</td>\n",
       "    </tr>\n",
       "    <tr>\n",
       "      <th>4</th>\n",
       "      <td>37.85</td>\n",
       "      <td>-122.25</td>\n",
       "      <td>52.0</td>\n",
       "      <td>1627.0</td>\n",
       "      <td>280.0</td>\n",
       "      <td>565.0</td>\n",
       "      <td>259.0</td>\n",
       "      <td>3.8462</td>\n",
       "      <td>342200.0</td>\n",
       "      <td>NEAR BAY</td>\n",
       "      <td>6.281853</td>\n",
       "      <td>0.172096</td>\n",
       "      <td>2.181467</td>\n",
       "    </tr>\n",
       "  </tbody>\n",
       "</table>\n",
       "</div>"
      ],
      "text/plain": [
       "   latitude  longitude  housing_median_age  total_rooms  total_bedrooms  \\\n",
       "0     37.88    -122.23                41.0        880.0           129.0   \n",
       "1     37.86    -122.22                21.0       7099.0          1106.0   \n",
       "2     37.85    -122.24                52.0       1467.0           190.0   \n",
       "3     37.85    -122.25                52.0       1274.0           235.0   \n",
       "4     37.85    -122.25                52.0       1627.0           280.0   \n",
       "\n",
       "   population  households  median_income  median_house_value ocean_proximity  \\\n",
       "0       322.0       126.0         8.3252            452600.0        NEAR BAY   \n",
       "1      2401.0      1138.0         8.3014            358500.0        NEAR BAY   \n",
       "2       496.0       177.0         7.2574            352100.0        NEAR BAY   \n",
       "3       558.0       219.0         5.6431            341300.0        NEAR BAY   \n",
       "4       565.0       259.0         3.8462            342200.0        NEAR BAY   \n",
       "\n",
       "   rooms_per_household  bedrooms_per_room  population_per_household  \n",
       "0             6.984127           0.146591                  2.555556  \n",
       "1             6.238137           0.155797                  2.109842  \n",
       "2             8.288136           0.129516                  2.802260  \n",
       "3             5.817352           0.184458                  2.547945  \n",
       "4             6.281853           0.172096                  2.181467  "
      ]
     },
     "execution_count": 58,
     "metadata": {},
     "output_type": "execute_result"
    }
   ],
   "source": [
    "df.head()"
   ]
  },
  {
   "cell_type": "code",
   "execution_count": 60,
   "metadata": {
    "execution": {
     "iopub.execute_input": "2022-09-24T15:52:33.622867Z",
     "iopub.status.busy": "2022-09-24T15:52:33.622378Z",
     "iopub.status.idle": "2022-09-24T15:52:33.629785Z",
     "shell.execute_reply": "2022-09-24T15:52:33.628284Z",
     "shell.execute_reply.started": "2022-09-24T15:52:33.622832Z"
    }
   },
   "outputs": [],
   "source": [
    "mean_mhv=df.median_house_value.mean()"
   ]
  },
  {
   "cell_type": "code",
   "execution_count": 62,
   "metadata": {
    "execution": {
     "iopub.execute_input": "2022-09-24T15:54:20.107654Z",
     "iopub.status.busy": "2022-09-24T15:54:20.106836Z",
     "iopub.status.idle": "2022-09-24T15:54:20.126576Z",
     "shell.execute_reply": "2022-09-24T15:54:20.125466Z",
     "shell.execute_reply.started": "2022-09-24T15:54:20.107593Z"
    }
   },
   "outputs": [],
   "source": [
    "df[\"average\"]=df.median_house_value.apply(lambda x: 1 if x > mean_mhv else 0)"
   ]
  },
  {
   "cell_type": "code",
   "execution_count": 63,
   "metadata": {
    "execution": {
     "iopub.execute_input": "2022-09-24T15:54:31.856898Z",
     "iopub.status.busy": "2022-09-24T15:54:31.856421Z",
     "iopub.status.idle": "2022-09-24T15:54:31.888922Z",
     "shell.execute_reply": "2022-09-24T15:54:31.887341Z",
     "shell.execute_reply.started": "2022-09-24T15:54:31.856864Z"
    }
   },
   "outputs": [
    {
     "data": {
      "text/html": [
       "<div>\n",
       "<style scoped>\n",
       "    .dataframe tbody tr th:only-of-type {\n",
       "        vertical-align: middle;\n",
       "    }\n",
       "\n",
       "    .dataframe tbody tr th {\n",
       "        vertical-align: top;\n",
       "    }\n",
       "\n",
       "    .dataframe thead th {\n",
       "        text-align: right;\n",
       "    }\n",
       "</style>\n",
       "<table border=\"1\" class=\"dataframe\">\n",
       "  <thead>\n",
       "    <tr style=\"text-align: right;\">\n",
       "      <th></th>\n",
       "      <th>latitude</th>\n",
       "      <th>longitude</th>\n",
       "      <th>housing_median_age</th>\n",
       "      <th>total_rooms</th>\n",
       "      <th>total_bedrooms</th>\n",
       "      <th>population</th>\n",
       "      <th>households</th>\n",
       "      <th>median_income</th>\n",
       "      <th>median_house_value</th>\n",
       "      <th>ocean_proximity</th>\n",
       "      <th>rooms_per_household</th>\n",
       "      <th>bedrooms_per_room</th>\n",
       "      <th>population_per_household</th>\n",
       "      <th>average</th>\n",
       "    </tr>\n",
       "  </thead>\n",
       "  <tbody>\n",
       "    <tr>\n",
       "      <th>0</th>\n",
       "      <td>37.88</td>\n",
       "      <td>-122.23</td>\n",
       "      <td>41.0</td>\n",
       "      <td>880.0</td>\n",
       "      <td>129.0</td>\n",
       "      <td>322.0</td>\n",
       "      <td>126.0</td>\n",
       "      <td>8.3252</td>\n",
       "      <td>452600.0</td>\n",
       "      <td>NEAR BAY</td>\n",
       "      <td>6.984127</td>\n",
       "      <td>0.146591</td>\n",
       "      <td>2.555556</td>\n",
       "      <td>1</td>\n",
       "    </tr>\n",
       "    <tr>\n",
       "      <th>1</th>\n",
       "      <td>37.86</td>\n",
       "      <td>-122.22</td>\n",
       "      <td>21.0</td>\n",
       "      <td>7099.0</td>\n",
       "      <td>1106.0</td>\n",
       "      <td>2401.0</td>\n",
       "      <td>1138.0</td>\n",
       "      <td>8.3014</td>\n",
       "      <td>358500.0</td>\n",
       "      <td>NEAR BAY</td>\n",
       "      <td>6.238137</td>\n",
       "      <td>0.155797</td>\n",
       "      <td>2.109842</td>\n",
       "      <td>1</td>\n",
       "    </tr>\n",
       "    <tr>\n",
       "      <th>2</th>\n",
       "      <td>37.85</td>\n",
       "      <td>-122.24</td>\n",
       "      <td>52.0</td>\n",
       "      <td>1467.0</td>\n",
       "      <td>190.0</td>\n",
       "      <td>496.0</td>\n",
       "      <td>177.0</td>\n",
       "      <td>7.2574</td>\n",
       "      <td>352100.0</td>\n",
       "      <td>NEAR BAY</td>\n",
       "      <td>8.288136</td>\n",
       "      <td>0.129516</td>\n",
       "      <td>2.802260</td>\n",
       "      <td>1</td>\n",
       "    </tr>\n",
       "    <tr>\n",
       "      <th>3</th>\n",
       "      <td>37.85</td>\n",
       "      <td>-122.25</td>\n",
       "      <td>52.0</td>\n",
       "      <td>1274.0</td>\n",
       "      <td>235.0</td>\n",
       "      <td>558.0</td>\n",
       "      <td>219.0</td>\n",
       "      <td>5.6431</td>\n",
       "      <td>341300.0</td>\n",
       "      <td>NEAR BAY</td>\n",
       "      <td>5.817352</td>\n",
       "      <td>0.184458</td>\n",
       "      <td>2.547945</td>\n",
       "      <td>1</td>\n",
       "    </tr>\n",
       "    <tr>\n",
       "      <th>4</th>\n",
       "      <td>37.85</td>\n",
       "      <td>-122.25</td>\n",
       "      <td>52.0</td>\n",
       "      <td>1627.0</td>\n",
       "      <td>280.0</td>\n",
       "      <td>565.0</td>\n",
       "      <td>259.0</td>\n",
       "      <td>3.8462</td>\n",
       "      <td>342200.0</td>\n",
       "      <td>NEAR BAY</td>\n",
       "      <td>6.281853</td>\n",
       "      <td>0.172096</td>\n",
       "      <td>2.181467</td>\n",
       "      <td>1</td>\n",
       "    </tr>\n",
       "  </tbody>\n",
       "</table>\n",
       "</div>"
      ],
      "text/plain": [
       "   latitude  longitude  housing_median_age  total_rooms  total_bedrooms  \\\n",
       "0     37.88    -122.23                41.0        880.0           129.0   \n",
       "1     37.86    -122.22                21.0       7099.0          1106.0   \n",
       "2     37.85    -122.24                52.0       1467.0           190.0   \n",
       "3     37.85    -122.25                52.0       1274.0           235.0   \n",
       "4     37.85    -122.25                52.0       1627.0           280.0   \n",
       "\n",
       "   population  households  median_income  median_house_value ocean_proximity  \\\n",
       "0       322.0       126.0         8.3252            452600.0        NEAR BAY   \n",
       "1      2401.0      1138.0         8.3014            358500.0        NEAR BAY   \n",
       "2       496.0       177.0         7.2574            352100.0        NEAR BAY   \n",
       "3       558.0       219.0         5.6431            341300.0        NEAR BAY   \n",
       "4       565.0       259.0         3.8462            342200.0        NEAR BAY   \n",
       "\n",
       "   rooms_per_household  bedrooms_per_room  population_per_household  average  \n",
       "0             6.984127           0.146591                  2.555556        1  \n",
       "1             6.238137           0.155797                  2.109842        1  \n",
       "2             8.288136           0.129516                  2.802260        1  \n",
       "3             5.817352           0.184458                  2.547945        1  \n",
       "4             6.281853           0.172096                  2.181467        1  "
      ]
     },
     "execution_count": 63,
     "metadata": {},
     "output_type": "execute_result"
    }
   ],
   "source": [
    "df.head()"
   ]
  },
  {
   "cell_type": "code",
   "execution_count": 65,
   "metadata": {
    "execution": {
     "iopub.execute_input": "2022-09-24T15:55:30.767396Z",
     "iopub.status.busy": "2022-09-24T15:55:30.766757Z",
     "iopub.status.idle": "2022-09-24T15:55:30.779545Z",
     "shell.execute_reply": "2022-09-24T15:55:30.778591Z",
     "shell.execute_reply.started": "2022-09-24T15:55:30.767344Z"
    }
   },
   "outputs": [
    {
     "data": {
      "text/plain": [
       "0    12255\n",
       "1     8385\n",
       "Name: average, dtype: int64"
      ]
     },
     "execution_count": 65,
     "metadata": {},
     "output_type": "execute_result"
    }
   ],
   "source": [
    "df[\"average\"].value_counts()"
   ]
  },
  {
   "cell_type": "code",
   "execution_count": 16,
   "metadata": {
    "execution": {
     "iopub.execute_input": "2022-09-26T05:41:19.826615Z",
     "iopub.status.busy": "2022-09-26T05:41:19.826246Z",
     "iopub.status.idle": "2022-09-26T05:41:20.344677Z",
     "shell.execute_reply": "2022-09-26T05:41:20.343468Z",
     "shell.execute_reply.started": "2022-09-26T05:41:19.826589Z"
    }
   },
   "outputs": [],
   "source": [
    "from sklearn.metrics import mutual_info_score"
   ]
  },
  {
   "cell_type": "code",
   "execution_count": 67,
   "metadata": {
    "execution": {
     "iopub.execute_input": "2022-09-24T16:00:38.427910Z",
     "iopub.status.busy": "2022-09-24T16:00:38.427288Z",
     "iopub.status.idle": "2022-09-24T16:00:38.439689Z",
     "shell.execute_reply": "2022-09-24T16:00:38.438907Z",
     "shell.execute_reply.started": "2022-09-24T16:00:38.427862Z"
    }
   },
   "outputs": [
    {
     "data": {
      "text/plain": [
       "latitude                    float64\n",
       "longitude                   float64\n",
       "housing_median_age          float64\n",
       "total_rooms                 float64\n",
       "total_bedrooms              float64\n",
       "population                  float64\n",
       "households                  float64\n",
       "median_income               float64\n",
       "median_house_value          float64\n",
       "ocean_proximity              object\n",
       "rooms_per_household         float64\n",
       "bedrooms_per_room           float64\n",
       "population_per_household    float64\n",
       "average                       int64\n",
       "dtype: object"
      ]
     },
     "execution_count": 67,
     "metadata": {},
     "output_type": "execute_result"
    }
   ],
   "source": [
    "df."
   ]
  },
  {
   "cell_type": "code",
   "execution_count": 73,
   "metadata": {
    "execution": {
     "iopub.execute_input": "2022-09-24T16:05:54.936892Z",
     "iopub.status.busy": "2022-09-24T16:05:54.936470Z",
     "iopub.status.idle": "2022-09-24T16:05:54.955247Z",
     "shell.execute_reply": "2022-09-24T16:05:54.954342Z",
     "shell.execute_reply.started": "2022-09-24T16:05:54.936859Z"
    }
   },
   "outputs": [],
   "source": [
    "df[\"average\"]=df.median_house_value.apply(lambda x: 1 if x > mean_mhv else 0)"
   ]
  },
  {
   "cell_type": "code",
   "execution_count": 17,
   "metadata": {
    "execution": {
     "iopub.execute_input": "2022-09-26T05:41:39.454679Z",
     "iopub.status.busy": "2022-09-26T05:41:39.454094Z",
     "iopub.status.idle": "2022-09-26T05:41:39.467197Z",
     "shell.execute_reply": "2022-09-26T05:41:39.465335Z",
     "shell.execute_reply.started": "2022-09-26T05:41:39.454648Z"
    }
   },
   "outputs": [],
   "source": [
    "def prepare_datax(df, seedval,fillnavalue):\n",
    "    \n",
    "    df=df[['latitude',\n",
    "            'longitude',\n",
    "            'housing_median_age',\n",
    "            'total_rooms',\n",
    "            'total_bedrooms',\n",
    "            'population',\n",
    "            'households',\n",
    "            'median_income',\n",
    "            'median_house_value',\n",
    "            'ocean_proximity']]\n",
    "    # Splitting of dataset into the train 60%, validation 20%, and the test 20 % dataset\n",
    "    df = df.copy()\n",
    "    n = len(df)\n",
    "    n_val = int(n * 0.2)            # Validation dataset\n",
    "    n_test = int(n * 0.2)           # Test dataset \n",
    "    n_train = n - n_val - n_test    # Train dataset\n",
    "    \n",
    "    #filling with zero in missing values\n",
    "    \n",
    "    #print(df.total_bedrooms.value_counts())\n",
    "    df[\"total_bedrooms\"] = df[\"total_bedrooms\"].fillna(fillnavalue)\n",
    "    df['rooms_per_household']=df.apply(lambda x:x['total_rooms']/x['households'],axis=1)\n",
    "    df['bedrooms_per_room']=df.apply(lambda x:x['total_bedrooms']/x['total_rooms'],axis=1)\n",
    "    df['population_per_household']=df.apply(lambda x:x['population']/x['households'],axis=1)\n",
    "    mean_mhv=df.median_house_value.mean()\n",
    "    df[\"above_average\"]=df.median_house_value.apply(lambda x: 1 if x > mean_mhv else 0)\n",
    "    \n",
    "    \n",
    "    \n",
    "    #print(df.total_bedrooms.value_counts())\n",
    "    \n",
    "    # suffle index\n",
    "    idx = np.arange(n)\n",
    "    np.random.seed(seedval)\n",
    "    np.random.shuffle(idx)\n",
    "    \n",
    "    #get train/val/test dataset\n",
    "    df_train = df.iloc[idx[:n_train]]\n",
    "    df_val = df.iloc[idx[n_train:n_train+n_val]]\n",
    "    df_test = df.iloc[idx[n_train+n_val:]]\n",
    "    \n",
    "    #reset index\n",
    "    df_train = df_train.reset_index(drop=True)\n",
    "    df_val = df_val.reset_index(drop=True)\n",
    "    df_test = df_test.reset_index(drop=True)\n",
    "    \n",
    "    \n",
    "    # target of the y values\n",
    "    y_train = df_train.above_average.values\n",
    "    y_val = df_val.above_average.values\n",
    "    y_test = df_test.above_average.values\n",
    "    \n",
    "    del df_train['median_house_value']\n",
    "    del df_val['median_house_value']\n",
    "    del df_test['median_house_value']\n",
    "    \n",
    "\n",
    "    \n",
    "    return df_train,df_val,df_test,y_train,y_val,y_test"
   ]
  },
  {
   "cell_type": "code",
   "execution_count": 18,
   "metadata": {
    "execution": {
     "iopub.execute_input": "2022-09-26T05:41:47.931563Z",
     "iopub.status.busy": "2022-09-26T05:41:47.931200Z",
     "iopub.status.idle": "2022-09-26T05:41:48.789635Z",
     "shell.execute_reply": "2022-09-26T05:41:48.788588Z",
     "shell.execute_reply.started": "2022-09-26T05:41:47.931538Z"
    }
   },
   "outputs": [],
   "source": [
    "seed=42\n",
    "fillnavalue=0\n",
    "df_train,df_val,df_test,y_train,y_val,y_test = prepare_datax(df,seed,fillnavalue)"
   ]
  },
  {
   "cell_type": "markdown",
   "metadata": {},
   "source": [
    "## Q3 solution"
   ]
  },
  {
   "cell_type": "code",
   "execution_count": 19,
   "metadata": {
    "execution": {
     "iopub.execute_input": "2022-09-26T05:41:52.480480Z",
     "iopub.status.busy": "2022-09-26T05:41:52.480158Z",
     "iopub.status.idle": "2022-09-26T05:41:52.514220Z",
     "shell.execute_reply": "2022-09-26T05:41:52.513295Z",
     "shell.execute_reply.started": "2022-09-26T05:41:52.480455Z"
    }
   },
   "outputs": [
    {
     "data": {
      "text/html": [
       "<div>\n",
       "<style scoped>\n",
       "    .dataframe tbody tr th:only-of-type {\n",
       "        vertical-align: middle;\n",
       "    }\n",
       "\n",
       "    .dataframe tbody tr th {\n",
       "        vertical-align: top;\n",
       "    }\n",
       "\n",
       "    .dataframe thead th {\n",
       "        text-align: right;\n",
       "    }\n",
       "</style>\n",
       "<table border=\"1\" class=\"dataframe\">\n",
       "  <thead>\n",
       "    <tr style=\"text-align: right;\">\n",
       "      <th></th>\n",
       "      <th>MI</th>\n",
       "    </tr>\n",
       "  </thead>\n",
       "  <tbody>\n",
       "    <tr>\n",
       "      <th>ocean_proximity</th>\n",
       "      <td>0.100831</td>\n",
       "    </tr>\n",
       "  </tbody>\n",
       "</table>\n",
       "</div>"
      ],
      "text/plain": [
       "                       MI\n",
       "ocean_proximity  0.100831"
      ]
     },
     "metadata": {},
     "output_type": "display_data"
    }
   ],
   "source": [
    "categorical = [\"ocean_proximity\"]\n",
    "numerical=['latitude', 'longitude', 'housing_median_age', 'total_rooms',\n",
    "       'total_bedrooms', 'population', 'households', 'median_income', 'rooms_per_household', 'bedrooms_per_room',\n",
    "       'population_per_household']\n",
    "\n",
    "def calculate_mi(series):\n",
    "    return mutual_info_score(series, df_train.above_average)\n",
    "\n",
    "df_mi = df_train[categorical].apply(calculate_mi)\n",
    "df_mi = df_mi.sort_values(ascending=False).to_frame(name='MI')\n",
    "\n",
    "\n",
    "display(df_mi.head())"
   ]
  },
  {
   "cell_type": "code",
   "execution_count": 20,
   "metadata": {
    "execution": {
     "iopub.execute_input": "2022-09-26T05:42:02.326409Z",
     "iopub.status.busy": "2022-09-26T05:42:02.326057Z",
     "iopub.status.idle": "2022-09-26T05:42:02.334399Z",
     "shell.execute_reply": "2022-09-26T05:42:02.332390Z",
     "shell.execute_reply.started": "2022-09-26T05:42:02.326383Z"
    }
   },
   "outputs": [],
   "source": [
    "    del df_train['above_average']\n",
    "    del df_val['above_average']\n",
    "    del df_test['above_average']"
   ]
  },
  {
   "cell_type": "code",
   "execution_count": 21,
   "metadata": {
    "execution": {
     "iopub.execute_input": "2022-09-26T05:42:06.250720Z",
     "iopub.status.busy": "2022-09-26T05:42:06.250367Z",
     "iopub.status.idle": "2022-09-26T05:42:06.260723Z",
     "shell.execute_reply": "2022-09-26T05:42:06.259438Z",
     "shell.execute_reply.started": "2022-09-26T05:42:06.250696Z"
    }
   },
   "outputs": [
    {
     "data": {
      "text/plain": [
       "Index(['latitude', 'longitude', 'housing_median_age', 'total_rooms',\n",
       "       'total_bedrooms', 'population', 'households', 'median_income',\n",
       "       'ocean_proximity', 'rooms_per_household', 'bedrooms_per_room',\n",
       "       'population_per_household'],\n",
       "      dtype='object')"
      ]
     },
     "execution_count": 21,
     "metadata": {},
     "output_type": "execute_result"
    }
   ],
   "source": [
    "df_train.columns"
   ]
  },
  {
   "cell_type": "code",
   "execution_count": 22,
   "metadata": {
    "execution": {
     "iopub.execute_input": "2022-09-26T05:42:17.165550Z",
     "iopub.status.busy": "2022-09-26T05:42:17.165192Z",
     "iopub.status.idle": "2022-09-26T05:42:17.187272Z",
     "shell.execute_reply": "2022-09-26T05:42:17.186563Z",
     "shell.execute_reply.started": "2022-09-26T05:42:17.165522Z"
    }
   },
   "outputs": [],
   "source": [
    "#one hot encoding\n",
    "from sklearn.feature_extraction import DictVectorizer\n"
   ]
  },
  {
   "cell_type": "code",
   "execution_count": 23,
   "metadata": {
    "execution": {
     "iopub.execute_input": "2022-09-26T05:42:22.180266Z",
     "iopub.status.busy": "2022-09-26T05:42:22.179905Z",
     "iopub.status.idle": "2022-09-26T05:42:22.300097Z",
     "shell.execute_reply": "2022-09-26T05:42:22.299112Z",
     "shell.execute_reply.started": "2022-09-26T05:42:22.180230Z"
    }
   },
   "outputs": [],
   "source": [
    "train_dict = df_train[categorical + numerical].to_dict(orient='records')"
   ]
  },
  {
   "cell_type": "code",
   "execution_count": 98,
   "metadata": {
    "execution": {
     "iopub.execute_input": "2022-09-24T16:30:19.118392Z",
     "iopub.status.busy": "2022-09-24T16:30:19.117930Z",
     "iopub.status.idle": "2022-09-24T16:30:19.127337Z",
     "shell.execute_reply": "2022-09-24T16:30:19.126009Z",
     "shell.execute_reply.started": "2022-09-24T16:30:19.118358Z"
    }
   },
   "outputs": [
    {
     "data": {
      "text/plain": [
       "{'ocean_proximity': 'INLAND',\n",
       " 'latitude': 36.06,\n",
       " 'longitude': -119.01,\n",
       " 'housing_median_age': 25.0,\n",
       " 'total_rooms': 1505.0,\n",
       " 'total_bedrooms': 0.0,\n",
       " 'population': 1392.0,\n",
       " 'households': 359.0,\n",
       " 'median_income': 1.6812,\n",
       " 'rooms_per_household': 4.192200557103064,\n",
       " 'bedrooms_per_room': 0.0,\n",
       " 'population_per_household': 3.8774373259052926}"
      ]
     },
     "execution_count": 98,
     "metadata": {},
     "output_type": "execute_result"
    }
   ],
   "source": [
    "train_dict[0]"
   ]
  },
  {
   "cell_type": "code",
   "execution_count": 25,
   "metadata": {
    "execution": {
     "iopub.execute_input": "2022-09-26T05:42:48.220779Z",
     "iopub.status.busy": "2022-09-26T05:42:48.220402Z",
     "iopub.status.idle": "2022-09-26T05:42:48.326635Z",
     "shell.execute_reply": "2022-09-26T05:42:48.325202Z",
     "shell.execute_reply.started": "2022-09-26T05:42:48.220753Z"
    }
   },
   "outputs": [
    {
     "data": {
      "text/plain": [
       "DictVectorizer(sparse=False)"
      ]
     },
     "execution_count": 25,
     "metadata": {},
     "output_type": "execute_result"
    }
   ],
   "source": [
    "dv = DictVectorizer(sparse=False)\n",
    "dv.fit(train_dict)"
   ]
  },
  {
   "cell_type": "code",
   "execution_count": 26,
   "metadata": {
    "execution": {
     "iopub.execute_input": "2022-09-26T05:42:57.686638Z",
     "iopub.status.busy": "2022-09-26T05:42:57.685130Z",
     "iopub.status.idle": "2022-09-26T05:42:57.858916Z",
     "shell.execute_reply": "2022-09-26T05:42:57.857532Z",
     "shell.execute_reply.started": "2022-09-26T05:42:57.686445Z"
    }
   },
   "outputs": [],
   "source": [
    "X_train = dv.transform(train_dict)"
   ]
  },
  {
   "cell_type": "code",
   "execution_count": 27,
   "metadata": {
    "execution": {
     "iopub.execute_input": "2022-09-26T05:43:02.175495Z",
     "iopub.status.busy": "2022-09-26T05:43:02.175145Z",
     "iopub.status.idle": "2022-09-26T05:43:02.183199Z",
     "shell.execute_reply": "2022-09-26T05:43:02.182101Z",
     "shell.execute_reply.started": "2022-09-26T05:43:02.175469Z"
    }
   },
   "outputs": [
    {
     "data": {
      "text/plain": [
       "(12384, 16)"
      ]
     },
     "execution_count": 27,
     "metadata": {},
     "output_type": "execute_result"
    }
   ],
   "source": [
    "X_train.shape"
   ]
  },
  {
   "cell_type": "code",
   "execution_count": 28,
   "metadata": {
    "execution": {
     "iopub.execute_input": "2022-09-26T05:43:10.101265Z",
     "iopub.status.busy": "2022-09-26T05:43:10.100898Z",
     "iopub.status.idle": "2022-09-26T05:43:10.112296Z",
     "shell.execute_reply": "2022-09-26T05:43:10.110808Z",
     "shell.execute_reply.started": "2022-09-26T05:43:10.101239Z"
    }
   },
   "outputs": [
    {
     "name": "stderr",
     "output_type": "stream",
     "text": [
      "/opt/conda/lib/python3.7/site-packages/sklearn/utils/deprecation.py:87: FutureWarning: Function get_feature_names is deprecated; get_feature_names is deprecated in 1.0 and will be removed in 1.2. Please use get_feature_names_out instead.\n",
      "  warnings.warn(msg, category=FutureWarning)\n"
     ]
    },
    {
     "data": {
      "text/plain": [
       "['bedrooms_per_room',\n",
       " 'households',\n",
       " 'housing_median_age',\n",
       " 'latitude',\n",
       " 'longitude',\n",
       " 'median_income',\n",
       " 'ocean_proximity=<1H OCEAN',\n",
       " 'ocean_proximity=INLAND',\n",
       " 'ocean_proximity=ISLAND',\n",
       " 'ocean_proximity=NEAR BAY',\n",
       " 'ocean_proximity=NEAR OCEAN',\n",
       " 'population',\n",
       " 'population_per_household',\n",
       " 'rooms_per_household',\n",
       " 'total_bedrooms',\n",
       " 'total_rooms']"
      ]
     },
     "execution_count": 28,
     "metadata": {},
     "output_type": "execute_result"
    }
   ],
   "source": [
    "dv.get_feature_names()"
   ]
  },
  {
   "cell_type": "markdown",
   "metadata": {
    "execution": {
     "iopub.execute_input": "2022-09-24T16:32:38.718184Z",
     "iopub.status.busy": "2022-09-24T16:32:38.717696Z",
     "iopub.status.idle": "2022-09-24T16:32:38.723605Z",
     "shell.execute_reply": "2022-09-24T16:32:38.722301Z",
     "shell.execute_reply.started": "2022-09-24T16:32:38.718146Z"
    }
   },
   "source": [
    "## Training logistic regression"
   ]
  },
  {
   "cell_type": "code",
   "execution_count": 29,
   "metadata": {
    "execution": {
     "iopub.execute_input": "2022-09-26T05:43:21.581809Z",
     "iopub.status.busy": "2022-09-26T05:43:21.581410Z",
     "iopub.status.idle": "2022-09-26T05:43:21.907991Z",
     "shell.execute_reply": "2022-09-26T05:43:21.906580Z",
     "shell.execute_reply.started": "2022-09-26T05:43:21.581783Z"
    }
   },
   "outputs": [
    {
     "data": {
      "text/plain": [
       "LogisticRegression(max_iter=1000, random_state=42, solver='liblinear')"
      ]
     },
     "execution_count": 29,
     "metadata": {},
     "output_type": "execute_result"
    }
   ],
   "source": [
    "from sklearn.linear_model import LogisticRegression\n",
    "model = LogisticRegression(solver=\"liblinear\", C=1.0, max_iter=1000, random_state=42)\n",
    "model.fit(X_train, y_train)"
   ]
  },
  {
   "cell_type": "code",
   "execution_count": 30,
   "metadata": {
    "execution": {
     "iopub.execute_input": "2022-09-26T05:43:28.895568Z",
     "iopub.status.busy": "2022-09-26T05:43:28.895167Z",
     "iopub.status.idle": "2022-09-26T05:43:29.007792Z",
     "shell.execute_reply": "2022-09-26T05:43:29.006555Z",
     "shell.execute_reply.started": "2022-09-26T05:43:28.895542Z"
    }
   },
   "outputs": [],
   "source": [
    "val_dict = df_val[categorical + numerical].to_dict(orient='records')\n",
    "X_val = dv.transform(val_dict)\n",
    "y_pred = model.predict_proba(X_val)[:, 1]\n",
    "above_average_pred = y_pred > 0.5"
   ]
  },
  {
   "cell_type": "markdown",
   "metadata": {},
   "source": [
    "## Q4 Solution"
   ]
  },
  {
   "cell_type": "code",
   "execution_count": 31,
   "metadata": {
    "execution": {
     "iopub.execute_input": "2022-09-26T05:43:32.651810Z",
     "iopub.status.busy": "2022-09-26T05:43:32.650312Z",
     "iopub.status.idle": "2022-09-26T05:43:32.661041Z",
     "shell.execute_reply": "2022-09-26T05:43:32.659127Z",
     "shell.execute_reply.started": "2022-09-26T05:43:32.651755Z"
    }
   },
   "outputs": [
    {
     "data": {
      "text/plain": [
       "0.8309108527131783"
      ]
     },
     "execution_count": 31,
     "metadata": {},
     "output_type": "execute_result"
    }
   ],
   "source": [
    "(y_val == above_average_pred).mean()"
   ]
  },
  {
   "cell_type": "markdown",
   "metadata": {},
   "source": [
    "## Q5 solution"
   ]
  },
  {
   "cell_type": "markdown",
   "metadata": {},
   "source": [
    "# **Feature elimination**"
   ]
  },
  {
   "cell_type": "code",
   "execution_count": 65,
   "metadata": {
    "execution": {
     "iopub.execute_input": "2022-09-26T06:56:39.207723Z",
     "iopub.status.busy": "2022-09-26T06:56:39.206899Z",
     "iopub.status.idle": "2022-09-26T06:56:45.035030Z",
     "shell.execute_reply": "2022-09-26T06:56:45.033965Z",
     "shell.execute_reply.started": "2022-09-26T06:56:39.207661Z"
    }
   },
   "outputs": [
    {
     "name": "stdout",
     "output_type": "stream",
     "text": [
      "feature_removed: total_rooms\n",
      "new accuracy: 0.8306686046511628\n",
      "old accuracy: 0.8309108527131783\n",
      "difference: 0.00024224806201555982 \n",
      "\n",
      "feature_removed: total_bedrooms\n",
      "new accuracy: 0.8316375968992248\n",
      "old accuracy: 0.8309108527131783\n",
      "difference: -0.0007267441860464574 \n",
      "\n",
      "feature_removed: population\n",
      "new accuracy: 0.8299418604651163\n",
      "old accuracy: 0.8309108527131783\n",
      "difference: 0.0009689922480620172 \n",
      "\n",
      "feature_removed: households\n",
      "new accuracy: 0.8321220930232558\n",
      "old accuracy: 0.8309108527131783\n",
      "difference: -0.001211240310077466 \n",
      "\n"
     ]
    }
   ],
   "source": [
    "from sklearn.linear_model import LogisticRegression\n",
    "\n",
    "\n",
    "feature_remove= [\"total_rooms\",\"total_bedrooms\",\"population\",\"households\"]\n",
    "without_elemeting_feature_accuracy=0.8309108527131783\n",
    "\n",
    "for feature in feature_remove:\n",
    "    print(\"feature_removed:\", feature)\n",
    "\n",
    "    seed=42\n",
    "    fillnavalue=0\n",
    "    df_train,df_val,df_test,y_train,y_val,y_test = prepare_datax(df,seed,fillnavalue)\n",
    "    \n",
    "    categorical = [\"ocean_proximity\"]\n",
    "    numerical=['latitude', 'longitude', 'housing_median_age',\"total_rooms\",\n",
    "           'total_bedrooms', 'population', 'households', 'median_income', 'rooms_per_household', 'bedrooms_per_room',\n",
    "           'population_per_household']\n",
    "\n",
    "\n",
    "\n",
    "    del df_train['above_average']\n",
    "    del df_val['above_average']\n",
    "    del df_test['above_average']\n",
    "    #print(numerical)\n",
    "    numerical.remove(feature)\n",
    "    \n",
    "    #print(numerical)\n",
    "\n",
    "    train_dict = df_train[categorical + numerical].to_dict(orient='records')\n",
    "\n",
    "    dv = DictVectorizer(sparse=False)\n",
    "    dv.fit(train_dict)\n",
    "\n",
    "    X_train = dv.transform(train_dict)\n",
    "\n",
    "    #print(\"X_train.shape\",X_train.shape)\n",
    "\n",
    "    dv.get_feature_names_out()\n",
    "\n",
    "    #train model\n",
    "\n",
    "    model = LogisticRegression(solver=\"liblinear\", C=1.0, max_iter=1000, random_state=42)\n",
    "    model.fit(X_train, y_train)\n",
    "\n",
    "    val_dict = df_val[categorical + numerical].to_dict(orient='records')\n",
    "    X_val = dv.transform(val_dict)\n",
    "    y_pred = model.predict_proba(X_val)[:, 1]\n",
    "    above_average_pred = y_pred > 0.5\n",
    "    \n",
    "    accuracy=(y_val == above_average_pred).mean()\n",
    "    print(\"new accuracy:\", accuracy)\n",
    "    print(\"old accuracy:\",without_elemeting_feature_accuracy)\n",
    "    print(\"difference:\",without_elemeting_feature_accuracy-accuracy,\"\\n\")"
   ]
  },
  {
   "cell_type": "markdown",
   "metadata": {},
   "source": [
    "eliminating total_rooms"
   ]
  },
  {
   "cell_type": "markdown",
   "metadata": {
    "execution": {
     "iopub.execute_input": "2022-09-26T06:16:24.746144Z",
     "iopub.status.busy": "2022-09-26T06:16:24.745762Z",
     "iopub.status.idle": "2022-09-26T06:16:24.752025Z",
     "shell.execute_reply": "2022-09-26T06:16:24.750974Z",
     "shell.execute_reply.started": "2022-09-26T06:16:24.746117Z"
    }
   },
   "source": [
    "## training  Ridge regression model\n"
   ]
  },
  {
   "cell_type": "code",
   "execution_count": 76,
   "metadata": {
    "execution": {
     "iopub.execute_input": "2022-09-26T07:44:47.144708Z",
     "iopub.status.busy": "2022-09-26T07:44:47.143454Z",
     "iopub.status.idle": "2022-09-26T07:44:47.160641Z",
     "shell.execute_reply": "2022-09-26T07:44:47.159422Z",
     "shell.execute_reply.started": "2022-09-26T07:44:47.144657Z"
    }
   },
   "outputs": [],
   "source": [
    "from sklearn.linear_model import Ridge\n",
    "from sklearn.metrics import mean_squared_error\n",
    "from sklearn.feature_extraction import DictVectorizer\n",
    "\n",
    "def data_Ridge(df, seedval,fillnavalue):\n",
    "    \n",
    "    df=df[['latitude',\n",
    "            'longitude',\n",
    "            'housing_median_age',\n",
    "            'total_rooms',\n",
    "            'total_bedrooms',\n",
    "            'population',\n",
    "            'households',\n",
    "            'median_income',\n",
    "            'median_house_value',\n",
    "            'ocean_proximity']]\n",
    "    # Splitting of dataset into the train 60%, validation 20%, and the test 20 % dataset\n",
    "    df = df.copy()\n",
    "    n = len(df)\n",
    "    n_val = int(n * 0.2)            # Validation dataset\n",
    "    n_test = int(n * 0.2)           # Test dataset \n",
    "    n_train = n - n_val - n_test    # Train dataset\n",
    "    \n",
    "    #filling with zero in missing values\n",
    "    \n",
    "    #print(df.total_bedrooms.value_counts())\n",
    "    df[\"total_bedrooms\"] = df[\"total_bedrooms\"].fillna(fillnavalue)\n",
    "    df['rooms_per_household']=df.apply(lambda x:x['total_rooms']/x['households'],axis=1)\n",
    "    df['bedrooms_per_room']=df.apply(lambda x:x['total_bedrooms']/x['total_rooms'],axis=1)\n",
    "    df['population_per_household']=df.apply(lambda x:x['population']/x['households'],axis=1)\n",
    "    mean_mhv=df.median_house_value.mean()\n",
    "\n",
    "    \n",
    "    # suffle index\n",
    "    idx = np.arange(n)\n",
    "    np.random.seed(seedval)\n",
    "    np.random.shuffle(idx)\n",
    "    \n",
    "    #get train/val/test dataset\n",
    "    df_train = df.iloc[idx[:n_train]]\n",
    "    df_val = df.iloc[idx[n_train:n_train+n_val]]\n",
    "    df_test = df.iloc[idx[n_train+n_val:]]\n",
    "    \n",
    "    #reset index\n",
    "    df_train = df_train.reset_index(drop=True)\n",
    "    df_val = df_val.reset_index(drop=True)\n",
    "    df_test = df_test.reset_index(drop=True)\n",
    "    \n",
    "    # Transformation of the y values\n",
    "    y_train = np.log1p(df_train.median_house_value.values)\n",
    "    y_val = np.log1p(df_val.median_house_value.values)\n",
    "    y_test = np.log1p(df_test.median_house_value.values)\n",
    "    \n",
    "    \n",
    "    \n",
    "    del df_train['median_house_value']\n",
    "    del df_val['median_house_value']\n",
    "    del df_test['median_house_value']\n",
    "    \n",
    "    #train dictvectorizor\n",
    "    categorical = [\"ocean_proximity\"]\n",
    "    numerical=['latitude', 'longitude', 'housing_median_age',\"total_rooms\",\n",
    "           'total_bedrooms', 'population', 'households', 'median_income', 'rooms_per_household', 'bedrooms_per_room',\n",
    "           'population_per_household']\n",
    "    \n",
    "    train_dict = df_train[categorical + numerical].to_dict(orient='records')\n",
    "    dv = DictVectorizer(sparse=False)\n",
    "    dv.fit(train_dict)\n",
    "    X_train = dv.transform(train_dict)\n",
    "    \n",
    "    \n",
    "    val_dict = df_val[categorical + numerical].to_dict(orient='records')\n",
    "    X_val = dv.transform(val_dict)\n",
    "    \n",
    "    \n",
    "    \n",
    "    return X_train,X_val,y_train,y_val\n",
    "\n",
    "\n",
    "\n",
    "def run_main(df, seed,fillnavalue,a):\n",
    "    X_train,X_val,y_train,y_val= data_Ridge(df,seed,fillnavalue)\n",
    "    model = Ridge(alpha=a, solver=\"sag\", random_state=42)\n",
    "    model.fit(X_train,y_train)\n",
    "    \n",
    "    pred = model.predict(X_val)\n",
    "    mean = mean_squared_error(y_val, pred) \n",
    "    rmse_val = np.sqrt(mean_squared_error(y_val,pred))\n",
    "\n",
    "    return rmse_val"
   ]
  },
  {
   "cell_type": "markdown",
   "metadata": {},
   "source": [
    "## Q6 solution"
   ]
  },
  {
   "cell_type": "code",
   "execution_count": 77,
   "metadata": {
    "execution": {
     "iopub.execute_input": "2022-09-26T07:44:48.125643Z",
     "iopub.status.busy": "2022-09-26T07:44:48.125077Z",
     "iopub.status.idle": "2022-09-26T07:45:15.668963Z",
     "shell.execute_reply": "2022-09-26T07:45:15.667919Z",
     "shell.execute_reply.started": "2022-09-26T07:44:48.125615Z"
    }
   },
   "outputs": [
    {
     "name": "stdout",
     "output_type": "stream",
     "text": [
      "seed used: 42\n",
      "missing value fill with : 0\n",
      "alpha: 0\n",
      "RMSE: 0.5285691953925384\n",
      "Round of RMSE: 0.529 \n",
      "\n",
      "alpha: 0.01\n",
      "RMSE: 0.5285691954185114\n",
      "Round of RMSE: 0.529 \n",
      "\n",
      "alpha: 0.1\n",
      "RMSE: 0.528569195671761\n",
      "Round of RMSE: 0.529 \n",
      "\n",
      "alpha: 1\n",
      "RMSE: 0.5285691981652885\n",
      "Round of RMSE: 0.529 \n",
      "\n",
      "alpha: 10\n",
      "RMSE: 0.5285692231070122\n",
      "Round of RMSE: 0.529 \n",
      "\n"
     ]
    }
   ],
   "source": [
    "#fill na with zero\n",
    "seed=42\n",
    "print(\"seed used:\",seed)\n",
    "fillvalue=0\n",
    "print(\"missing value fill with :\",fillvalue)\n",
    "\n",
    "for a in [0, 0.01, 0.1, 1, 10]:\n",
    "    print(\"alpha:\",a)\n",
    "    RMSE=run_main(df,seed,fillvalue,a)\n",
    "    print(\"RMSE:\",RMSE)\n",
    "    print(\"Round of RMSE:\",round(RMSE, 3),\"\\n\")"
   ]
  }
 ],
 "metadata": {
  "kernelspec": {
   "display_name": "Python 3",
   "language": "python",
   "name": "python3"
  },
  "language_info": {
   "codemirror_mode": {
    "name": "ipython",
    "version": 3
   },
   "file_extension": ".py",
   "mimetype": "text/x-python",
   "name": "python",
   "nbconvert_exporter": "python",
   "pygments_lexer": "ipython3",
   "version": "3.7.4"
  }
 },
 "nbformat": 4,
 "nbformat_minor": 4
}
